{
 "cells": [
  {
   "cell_type": "markdown",
   "metadata": {},
   "source": [
    " # Machine Learning LAB 1 (course 2020/21, P. Zanuttigh, M. Toldo) \n",
    "\n",
    "The notebook contains some simple tasks to be performed about classification and regression. Complete all the required code sections and answer to all the questions."
   ]
  },
  {
   "cell_type": "markdown",
   "metadata": {},
   "source": [
    "## 1) Classification of NBA players role\n",
    "\n",
    "## IMPORTANT: make sure to rerun all the code from the beginning to obtain the results for the final version of your notebook, since this is the way we will do it before evaluating your notebook!"
   ]
  },
  {
   "cell_type": "markdown",
   "metadata": {},
   "source": [
    "### Place your name and ID number. Also recall to save the file as Surname_Name_LAB1.ipynb\n",
    "\n",
    "Student name: Lucia Depaoli<br>\n",
    "ID Number: 2016960"
   ]
  },
  {
   "cell_type": "markdown",
   "metadata": {},
   "source": [
    "### Dataset description\n",
    "\n",
    "We will be working with a dataset of NBA basketball players data (you can get from https://www.kaggle.com/jacobbaruch/nba-player-of-the-week the full dataset).\n",
    "\n",
    "The provided data is a subset of the Kaggle dataset containing the players that have the role of Center and of Point Guard. For each player the dataset contains 3 features, the height, the weight and the age.\n",
    "\n",
    "From Wikipedia (if you are not a basketball fan!!):\n",
    "\n",
    "The Center (C), also known as the five, or the big man, is one of the five positions in a regular basketball game. The center is normally the tallest player on the team, and often has a great deal of strength and body mass as well. In the NBA, the center is usually 6' 10\" (2.08 m) or taller and usually weighs 240 lbs (109 kg) or more. \n",
    "\n",
    "Point Guards (PG, a.k.a. as \"play maker\") are expected to run the team's offense by controlling the ball and making sure that it gets to the right players at the right time. In the NBA, point guards are usually about 6' 3\" (1.93 m) or shorter, and average about 6' 2\" (1.88 m). Having above-average size (height, muscle) is considered advantageous, although size is secondary to situational awareness, speed, quickness, and ball handling skills. Shorter players tend to be better dribblers since they are closer to the floor, and thus have better control of the ball while dribbling. \n",
    "\n",
    "\n",
    "As it is clear from the description, the height and weight of the player are good hints to predict their role and in this lab we will exploit this features to estimate the role.\n",
    "\n",
    "\n",
    "### Three features are considered for this dataset:\n",
    "\n",
    "\n",
    "1) Height in cm\n",
    "\n",
    "2) Weight in kg\n",
    "\n",
    "3) Age in years"
   ]
  },
  {
   "cell_type": "markdown",
   "metadata": {},
   "source": [
    "We first import all the packages that are needed."
   ]
  },
  {
   "cell_type": "code",
   "execution_count": 1,
   "metadata": {},
   "outputs": [],
   "source": [
    "%matplotlib inline\n",
    "import matplotlib.pyplot as plt\n",
    "import csv\n",
    "\n",
    "import numpy as np\n",
    "import scipy as sp\n",
    "import sklearn as sl\n",
    "from scipy import stats\n",
    "from sklearn import datasets\n",
    "from sklearn import linear_model"
   ]
  },
  {
   "cell_type": "markdown",
   "metadata": {},
   "source": [
    "# Perceptron\n",
    "Firstly we will implement the perceptron algorithm and use it to learn a halfspace."
   ]
  },
  {
   "cell_type": "markdown",
   "metadata": {},
   "source": [
    "**TO DO** Set the random seed (you can use your ID (matricola) or any other number!)."
   ]
  },
  {
   "cell_type": "code",
   "execution_count": 2,
   "metadata": {},
   "outputs": [],
   "source": [
    "IDnumber = 2021119 #YOUR_ID , try also to change the seed to see the impact of random initialization on the results\n",
    "np.random.seed(IDnumber)"
   ]
  },
  {
   "cell_type": "markdown",
   "metadata": {},
   "source": [
    "Load the dataset and then split in training set and test set (the training set is typically larger, you can use a 70% tranining 30% test split) after applying a random permutation to the datset."
   ]
  },
  {
   "cell_type": "markdown",
   "metadata": {},
   "source": [
    "A) Load dataset and perform permutation"
   ]
  },
  {
   "cell_type": "code",
   "execution_count": 3,
   "metadata": {},
   "outputs": [
    {
     "name": "stdout",
     "output_type": "stream",
     "text": [
      "['Position', 'Height cm', 'kg', 'Age']\n",
      "[[  0 198  85  29]\n",
      " [  0 192  76  37]\n",
      " [  0 210 114  24]\n",
      " ...\n",
      " [  1 213 108  29]\n",
      " [  1 216 112  29]\n",
      " [  1 216 146  25]]\n",
      "260\n",
      "[[188  83  32]\n",
      " [213 108  29]\n",
      " [185  81  23]\n",
      " [192  76  27]\n",
      " [216 112  25]\n",
      " [231 139  26]\n",
      " [186 119  23]\n",
      " [216 146  23]\n",
      " [219 117  31]\n",
      " [195  94  30]\n",
      " [216 146  23]\n",
      " [213 128  28]\n",
      " [216 146  22]\n",
      " [186 119  23]\n",
      " [219 117  23]\n",
      " [185 108  23]\n",
      " [213 117  24]\n",
      " [216 146  23]\n",
      " [185  81  22]\n",
      " [185  81  26]\n",
      " [185 126  30]\n",
      " [213 117  23]\n",
      " [195  94  28]\n",
      " [195  94  27]\n",
      " [213 108  24]\n",
      " [216 112  32]\n",
      " [186 121  30]\n",
      " [185  81  25]\n",
      " [186 119  23]\n",
      " [216 112  28]\n",
      " [213 108  25]\n",
      " [185  76  26]\n",
      " [216 146  27]\n",
      " [195  94  29]\n",
      " [216 146  20]\n",
      " [185  88  26]\n",
      " [210  94  29]\n",
      " [216 146  24]\n",
      " [210 114  33]\n",
      " [186 119  21]\n",
      " [192  85  23]\n",
      " [185  88  32]\n",
      " [185 108  23]\n",
      " [182  67  27]\n",
      " [185 126  28]\n",
      " [186 103  32]\n",
      " [213 108  30]\n",
      " [186 119  26]\n",
      " [186 125  22]\n",
      " [192  90  26]\n",
      " [182  78  25]\n",
      " [182  78  28]\n",
      " [210 114  29]\n",
      " [185  81  27]\n",
      " [216 146  27]\n",
      " [216 112  23]\n",
      " [213 110  25]\n",
      " [195  94  26]\n",
      " [185  76  27]\n",
      " [231 139  25]\n",
      " [182  78  28]\n",
      " [186 119  26]\n",
      " [195  94  24]\n",
      " [182  76  29]\n",
      " [182  78  27]\n",
      " [192  90  28]\n",
      " [186 119  26]\n",
      " [213 120  27]\n",
      " [195  94  27]\n",
      " [185  88  23]\n",
      " [182  76  24]\n",
      " [195  94  29]\n",
      " [186 103  24]\n",
      " [186 119  27]\n",
      " [219 117  25]\n",
      " [213 108  27]\n",
      " [182  74  23]\n",
      " [216 146  25]\n",
      " [213 119  27]\n",
      " [185  81  26]\n",
      " [216 112  31]\n",
      " [195  94  25]\n",
      " [186 108  25]\n",
      " [213 114  25]\n",
      " [185  88  23]\n",
      " [216 114  30]\n",
      " [186 119  24]\n",
      " [216 146  24]\n",
      " [182  78  28]\n",
      " [213 103  30]\n",
      " [185  85  29]\n",
      " [195  94  27]\n",
      " [219 117  26]\n",
      " [192  85  29]\n",
      " [225 112  35]\n",
      " [155  81  25]\n",
      " [192  78  27]\n",
      " [185  76  24]\n",
      " [222 125  31]\n",
      " [179  83  30]\n",
      " [186 119  26]\n",
      " [195  94  31]\n",
      " [198  85  23]\n",
      " [216 112  28]\n",
      " [192  76  37]\n",
      " [185  88  22]\n",
      " [213 110  30]\n",
      " [210 114  28]\n",
      " [186 121  29]\n",
      " [213 110  27]\n",
      " [195  94  31]\n",
      " [210 114  27]\n",
      " [219 117  29]\n",
      " [186 119  29]\n",
      " [155  73  24]\n",
      " [186 119  27]\n",
      " [192  90  21]\n",
      " [216 146  28]\n",
      " [231 139  26]\n",
      " [186 119  24]\n",
      " [182  78  28]\n",
      " [204  87  28]\n",
      " [195  94  30]\n",
      " [216 112  32]\n",
      " [216 146  23]\n",
      " [186 103  27]\n",
      " [213 114  22]\n",
      " [216 146  25]\n",
      " [186 119  22]\n",
      " [182  78  24]\n",
      " [186 121  25]\n",
      " [213 117  25]\n",
      " [210 114  27]\n",
      " [225 112  30]\n",
      " [185 126  22]\n",
      " [213 114  25]\n",
      " [213 114  32]\n",
      " [185  96  26]\n",
      " [213 114  24]\n",
      " [231 139  26]\n",
      " [185  81  24]\n",
      " [182  78  29]\n",
      " [219 117  24]\n",
      " [182  75  23]\n",
      " [216 146  27]\n",
      " [182  78  30]\n",
      " [213 108  31]\n",
      " [213 108  34]\n",
      " [185  76  26]\n",
      " [195  94  23]\n",
      " [192  85  31]\n",
      " [210 114  27]\n",
      " [179  83  23]\n",
      " [219 117  21]\n",
      " [182  78  25]\n",
      " [213 108  30]\n",
      " [213 108  25]\n",
      " [198  85  29]\n",
      " [210 126  28]\n",
      " [213 120  29]\n",
      " [192  90  31]\n",
      " [185 108  27]\n",
      " [216 112  29]\n",
      " [216 112  29]\n",
      " [213 114  33]\n",
      " [182  78  24]\n",
      " [213 128  25]\n",
      " [216 146  25]\n",
      " [213 120  27]\n",
      " [216 117  31]\n",
      " [213 108  31]\n",
      " [216 112  30]\n",
      " [213 114  26]\n",
      " [192  85  28]\n",
      " [192  90  26]\n",
      " [222 117  24]\n",
      " [210 114  26]\n",
      " [213 114  32]\n",
      " [155  81  28]\n",
      " [195  94  26]\n",
      " [213 114  30]\n",
      " [186 119  24]\n",
      " [186 108  22]\n",
      " [185 108  34]\n",
      " [219 117  22]\n",
      " [182  78  25]\n",
      " [185  96  30]\n",
      " [213 114  29]\n",
      " [231 139  25]\n",
      " [185 108  24]\n",
      " [192  90  27]\n",
      " [216 112  37]\n",
      " [216 112  21]\n",
      " [192  90  20]\n",
      " [216 146  21]\n",
      " [155  87  22]\n",
      " [216 112  31]\n",
      " [185 126  33]\n",
      " [210 114  29]\n",
      " [185  76  24]\n",
      " [216 146  31]\n",
      " [188  83  29]\n",
      " [188  87  24]\n",
      " [179  83  28]\n",
      " [195  94  32]\n",
      " [185  76  28]\n",
      " [195  94  24]\n",
      " [185  81  26]\n",
      " [216 112  30]\n",
      " [201  85  22]\n",
      " [182  78  28]\n",
      " [182  78  26]\n",
      " [213 108  30]\n",
      " [213 114  24]\n",
      " [210 114  24]\n",
      " [192  90  33]\n",
      " [195  94  29]\n",
      " [182  78  24]\n",
      " [216 146  25]\n",
      " [182  78  30]\n",
      " [195  94  32]\n",
      " [155  87  27]\n",
      " [185  81  35]\n",
      " [192  76  26]\n",
      " [210 114  25]\n",
      " [182  78  30]\n",
      " [204  87  23]\n",
      " [210 114  29]\n",
      " [210 117  20]\n",
      " [216 146  25]\n",
      " [185  83  31]\n",
      " [213 108  25]\n",
      " [213 128  24]\n",
      " [185 108  22]\n",
      " [185  81  27]\n",
      " [195  94  30]\n",
      " [216 112  23]\n",
      " [192  85  21]\n",
      " [186 116  24]\n",
      " [185 126  38]\n",
      " [186 119  22]\n",
      " [210 114  31]\n",
      " [219 101  26]\n",
      " [195  94  25]\n",
      " [195  94  30]\n",
      " [185 108  31]\n",
      " [213 114  28]\n",
      " [185 108  27]\n",
      " [186 121  25]\n",
      " [182  78  31]\n",
      " [192  76  27]\n",
      " [213 109  25]\n",
      " [186 119  26]\n",
      " [213 119  23]\n",
      " [213 103  28]\n",
      " [186 119  25]\n",
      " [231 139  25]\n",
      " [216 146  22]\n",
      " [155  73  26]\n",
      " [219 117  26]]\n",
      "[-1  1 -1 -1  1  1  1  1  1 -1  1  1  1  1  1  1  1  1 -1 -1  1  1 -1 -1\n",
      "  1  1  1 -1  1  1  1 -1  1 -1  1 -1  1  1 -1  1 -1 -1  1 -1  1  1  1  1\n",
      "  1 -1 -1 -1 -1 -1  1  1  1 -1 -1  1 -1  1 -1 -1 -1 -1  1  1 -1 -1 -1 -1\n",
      "  1  1  1  1 -1  1  1 -1  1 -1  1  1 -1  1  1  1 -1  1 -1 -1  1 -1  1 -1\n",
      " -1 -1  1 -1  1 -1 -1  1 -1 -1  1 -1  1  1 -1 -1  1  1 -1  1 -1  1  1  1\n",
      " -1 -1 -1  1  1  1  1  1  1 -1  1  1 -1  1  1  1  1  1  1  1 -1 -1  1 -1\n",
      "  1 -1  1  1 -1 -1 -1 -1 -1  1 -1  1  1 -1  1  1 -1  1  1  1  1 -1  1  1\n",
      "  1  1  1  1  1 -1 -1  1 -1  1 -1 -1  1  1  1  1  1 -1  1  1  1  1 -1  1\n",
      "  1 -1  1 -1  1  1 -1 -1  1 -1 -1 -1 -1 -1 -1 -1  1 -1 -1 -1  1  1 -1 -1\n",
      " -1 -1  1 -1 -1 -1 -1 -1 -1 -1 -1 -1  1  1 -1  1  1  1 -1 -1  1 -1  1  1\n",
      "  1 -1  1 -1 -1  1  1  1  1 -1 -1  1  1  1  1  1  1  1 -1  1]\n"
     ]
    }
   ],
   "source": [
    "#load the dataset\n",
    "filename = 'data/NBA.csv'\n",
    "NBA = csv.reader(open(filename, newline=''), delimiter=',')\n",
    "\n",
    "header = next(NBA) #skip first line\n",
    "print(header)\n",
    "\n",
    "dataset = list(NBA)\n",
    "for i in range(len(dataset)):\n",
    "    dataset[i] = [int(x) for x in dataset[i]]\n",
    "    \n",
    "dataset = np.asarray(dataset)  #convert input (list in this case) to an array\n",
    "\n",
    "print(dataset)\n",
    "\n",
    "X = dataset[:,1:4] #columns 1,2,3 contain the features\n",
    "Y = dataset[:,0]  # column 0: labels\n",
    "\n",
    "Y = Y*2-1  # set labels to -1, 1 as required by perceptron implementation\n",
    "\n",
    "m = dataset.shape[0] #numbers of x\n",
    "print(m)\n",
    "permutation = np.random.permutation(m) # random permurtation\n",
    "\n",
    "X = X[permutation]\n",
    "Y = Y[permutation]\n",
    "\n",
    "print(X)\n",
    "print(Y)"
   ]
  },
  {
   "cell_type": "markdown",
   "metadata": {},
   "source": [
    "We are going to classify class \"1\" (Center) vs class \"-1\" (Point Guard)"
   ]
  },
  {
   "cell_type": "markdown",
   "metadata": {},
   "source": [
    "B) **TO DO** Divide the data into training set and test set (70% of the data in the first set, 30% in the second one)"
   ]
  },
  {
   "cell_type": "code",
   "execution_count": 4,
   "metadata": {},
   "outputs": [
    {
     "name": "stdout",
     "output_type": "stream",
     "text": [
      "[-1  1 -1 -1  1  1  1  1  1 -1  1  1  1  1  1  1  1  1 -1 -1  1  1 -1 -1\n",
      "  1  1  1 -1  1  1  1 -1  1 -1  1 -1  1  1 -1  1 -1 -1  1 -1  1  1  1  1\n",
      "  1 -1 -1 -1 -1 -1  1  1  1 -1 -1  1 -1  1 -1 -1 -1 -1  1  1 -1 -1 -1 -1\n",
      "  1  1  1  1 -1  1  1 -1  1 -1  1  1 -1  1  1  1 -1  1 -1 -1  1 -1  1 -1\n",
      " -1 -1  1 -1  1 -1 -1  1 -1 -1  1 -1  1  1 -1 -1  1  1 -1  1 -1  1  1  1\n",
      " -1 -1 -1  1  1  1  1  1  1 -1  1  1 -1  1  1  1  1  1  1  1 -1 -1  1 -1\n",
      "  1 -1  1  1 -1 -1 -1 -1 -1  1 -1  1  1 -1  1  1 -1  1  1  1  1 -1  1  1\n",
      "  1  1  1  1  1 -1 -1  1 -1  1 -1 -1  1  1]\n",
      "Shape of training set: (182, 3)\n",
      "Shape of test set: (78, 3)\n"
     ]
    }
   ],
   "source": [
    "#Divide in training and test: make sure that your training set\n",
    "#contains at least 10 elements from class 1 and at least 10 elements\n",
    "#from class -1! If it does not, modify the code so to apply more random\n",
    "#permutations (or the same permutation multiple times) until this happens.\n",
    "#IMPORTANT: do not change the random seed.\n",
    "\n",
    "#m_training needs to be the number of samples in the training set\n",
    "m_training = m*70//100       #70%          \n",
    "\n",
    "#m_test needs to be the number of samples in the test set\n",
    "m_test = m-m_training          #30%\n",
    "\n",
    "#X_training = instances for training set\n",
    "X_training = X[0:m_training,:]\n",
    "#Y_training = labels for the training set\n",
    "Y_training = Y[0:m_training]\n",
    "\n",
    "#X_test = instances for test set\n",
    "X_test = X[m_training:m,:]\n",
    "#Y_test = labels for the test set\n",
    "Y_test = Y[m_training:m]\n",
    "\n",
    "print(Y_training) #to make sure that Y_training contains both 1 and -1\n",
    "\n",
    "print(\"Shape of training set: \" + str(X_training.shape))\n",
    "print(\"Shape of test set: \" + str(X_test.shape))"
   ]
  },
  {
   "cell_type": "markdown",
   "metadata": {},
   "source": [
    "We add a 1 in front of each sample so that we can use a vector in homogeneous coordinates to describe all the coefficients of the model. This can be done with the function $hstack$ in $numpy$."
   ]
  },
  {
   "cell_type": "code",
   "execution_count": 5,
   "metadata": {},
   "outputs": [
    {
     "name": "stdout",
     "output_type": "stream",
     "text": [
      "[[  1. 186. 108.  22.]\n",
      " [  1. 185. 108.  34.]\n",
      " [  1. 219. 117.  22.]\n",
      " [  1. 182.  78.  25.]\n",
      " [  1. 185.  96.  30.]\n",
      " [  1. 213. 114.  29.]\n",
      " [  1. 231. 139.  25.]\n",
      " [  1. 185. 108.  24.]\n",
      " [  1. 192.  90.  27.]\n",
      " [  1. 216. 112.  37.]\n",
      " [  1. 216. 112.  21.]\n",
      " [  1. 192.  90.  20.]\n",
      " [  1. 216. 146.  21.]\n",
      " [  1. 155.  87.  22.]\n",
      " [  1. 216. 112.  31.]\n",
      " [  1. 185. 126.  33.]\n",
      " [  1. 210. 114.  29.]\n",
      " [  1. 185.  76.  24.]\n",
      " [  1. 216. 146.  31.]\n",
      " [  1. 188.  83.  29.]\n",
      " [  1. 188.  87.  24.]\n",
      " [  1. 179.  83.  28.]\n",
      " [  1. 195.  94.  32.]\n",
      " [  1. 185.  76.  28.]\n",
      " [  1. 195.  94.  24.]\n",
      " [  1. 185.  81.  26.]\n",
      " [  1. 216. 112.  30.]\n",
      " [  1. 201.  85.  22.]\n",
      " [  1. 182.  78.  28.]\n",
      " [  1. 182.  78.  26.]\n",
      " [  1. 213. 108.  30.]\n",
      " [  1. 213. 114.  24.]\n",
      " [  1. 210. 114.  24.]\n",
      " [  1. 192.  90.  33.]\n",
      " [  1. 195.  94.  29.]\n",
      " [  1. 182.  78.  24.]\n",
      " [  1. 216. 146.  25.]\n",
      " [  1. 182.  78.  30.]\n",
      " [  1. 195.  94.  32.]\n",
      " [  1. 155.  87.  27.]\n",
      " [  1. 185.  81.  35.]\n",
      " [  1. 192.  76.  26.]\n",
      " [  1. 210. 114.  25.]\n",
      " [  1. 182.  78.  30.]\n",
      " [  1. 204.  87.  23.]\n",
      " [  1. 210. 114.  29.]\n",
      " [  1. 210. 117.  20.]\n",
      " [  1. 216. 146.  25.]\n",
      " [  1. 185.  83.  31.]\n",
      " [  1. 213. 108.  25.]\n",
      " [  1. 213. 128.  24.]\n",
      " [  1. 185. 108.  22.]\n",
      " [  1. 185.  81.  27.]\n",
      " [  1. 195.  94.  30.]\n",
      " [  1. 216. 112.  23.]\n",
      " [  1. 192.  85.  21.]\n",
      " [  1. 186. 116.  24.]\n",
      " [  1. 185. 126.  38.]\n",
      " [  1. 186. 119.  22.]\n",
      " [  1. 210. 114.  31.]\n",
      " [  1. 219. 101.  26.]\n",
      " [  1. 195.  94.  25.]\n",
      " [  1. 195.  94.  30.]\n",
      " [  1. 185. 108.  31.]\n",
      " [  1. 213. 114.  28.]\n",
      " [  1. 185. 108.  27.]\n",
      " [  1. 186. 121.  25.]\n",
      " [  1. 182.  78.  31.]\n",
      " [  1. 192.  76.  27.]\n",
      " [  1. 213. 109.  25.]\n",
      " [  1. 186. 119.  26.]\n",
      " [  1. 213. 119.  23.]\n",
      " [  1. 213. 103.  28.]\n",
      " [  1. 186. 119.  25.]\n",
      " [  1. 231. 139.  25.]\n",
      " [  1. 216. 146.  22.]\n",
      " [  1. 155.  73.  26.]\n",
      " [  1. 219. 117.  26.]]\n"
     ]
    }
   ],
   "source": [
    "#add a 1 to each sample (homogeneous coordinates)\n",
    "X_training = np.hstack((np.ones((m_training,1)),X_training))\n",
    "X_test = np.hstack((np.ones((m_test,1)),X_test))\n",
    "\n",
    "print(X_test)\n",
    "\n",
    "#execute it just one time or you will add a column at each execution"
   ]
  },
  {
   "cell_type": "markdown",
   "metadata": {},
   "source": [
    "**TO DO** Now complete the function *perceptron*. Since the perceptron does not terminate if the data is not linearly separable, your implementation should return the desired output (see below) if it reached the termination condition seen in class or if a maximum number of iterations have already been run, where one iteration corresponds to one update of the perceptron weights. In case the termination is reached because the maximum number of iterations have been completed, the implementation should return **the best model** seen up to now.\n",
    "\n",
    "The input parameters to pass are:\n",
    "- $X$: the matrix of input features, one row for each sample\n",
    "- $Y$: the vector of labels for the input features matrix X\n",
    "- $max\\_num\\_iterations$: the maximum number of iterations for running the perceptron\n",
    "\n",
    "The output values are:\n",
    "- $best\\_w$: the vector with the coefficients of the best model\n",
    "- $best\\_error$: the *fraction* of misclassified samples for the best model"
   ]
  },
  {
   "cell_type": "code",
   "execution_count": 6,
   "metadata": {},
   "outputs": [],
   "source": [
    "def perceptron(X, Y, max_num_iterations):\n",
    "    \n",
    "    w = np.zeros(X.shape[1])         #all 0\n",
    "    best_w = np.zeros(X.shape[1])    #all 0\n",
    "    num_samples = len(X)             #182 at the beginning\n",
    "    best_error = len(X)                   #useful at the end\n",
    "    c=0                              #counter\n",
    "    error=0              #useful for compare error with previous error\n",
    "    while c<max_num_iterations:\n",
    "        \n",
    "        error_ar=[]\n",
    "        for i in range(num_samples):             #add to an array all the index i of the wrong samples\n",
    "            if Y[i]*np.dot(X[i],w) <= 0:\n",
    "                error_ar.append(i)\n",
    "        \n",
    "        j=np.random.choice(error_ar)             #pick a wrong index from the previous array\n",
    "        w += Y[j]*X[j]                           #update w using one wrong index\n",
    "        \n",
    "        error_ar=[]\n",
    "        \n",
    "        for i in range(num_samples):             #counting of error of the new w\n",
    "            if Y[i]*np.dot(X[i],w) <= 0: \n",
    "                error_ar.append(i)\n",
    "            \n",
    "        error=len(error_ar)\n",
    "         \n",
    "        if error == 0:                           #perceptron at the end! data linearly separable\n",
    "            best_w = w\n",
    "            best_error = error/num_samples\n",
    "            break\n",
    "        \n",
    "        if error < best_error:                    #keeping track of the best w\n",
    "            best_w[:] = w[:]\n",
    "            best_error = error\n",
    "        \n",
    "        c+=1\n",
    "\n",
    "    best_error/=num_samples\n",
    "    \n",
    "    return best_w,best_error"
   ]
  },
  {
   "cell_type": "markdown",
   "metadata": {},
   "source": [
    "Now we use the implementation above of the perceptron to learn a model from the training data using 100 iterations and print the error of the best model we have found."
   ]
  },
  {
   "cell_type": "code",
   "execution_count": 10,
   "metadata": {},
   "outputs": [
    {
     "name": "stdout",
     "output_type": "stream",
     "text": [
      "Best w:  [  -6. -395.  857. -203.]\n",
      "Training Error of perpceptron (100 iterations): 0.06593406593406594\n"
     ]
    }
   ],
   "source": [
    "#now run the perceptron for 100 iterations\n",
    "\n",
    "w_found, error = perceptron(X_training,Y_training, 100)\n",
    "print('Best w: ',w_found)\n",
    "print(\"Training Error of perpceptron (100 iterations): \" + str(error))"
   ]
  },
  {
   "cell_type": "markdown",
   "metadata": {},
   "source": [
    "**TO DO** use the best model $w\\_found$ to predict the labels for the test dataset and print the fraction of misclassified samples in the test set (the test error that is an estimate of the true loss)."
   ]
  },
  {
   "cell_type": "code",
   "execution_count": 11,
   "metadata": {},
   "outputs": [
    {
     "name": "stdout",
     "output_type": "stream",
     "text": [
      "Test Error of perpceptron (100 iterations): 0.11538461538461539\n"
     ]
    }
   ],
   "source": [
    "#now use the w_found to make predictions on test dataset\n",
    "\n",
    "# PLACE YOUR CODE to compute the number of errors\n",
    "\n",
    "def error(X,Y,w):\n",
    "    \n",
    "    num_samples = len(X)\n",
    "    num_errors=0\n",
    "    \n",
    "    for i in range(num_samples):\n",
    "        if Y[i]*np.dot(X[i],w) <= 0:\n",
    "            num_errors+=1\n",
    "            \n",
    "    return num_errors\n",
    "\n",
    "num_errors=error(X_test,Y_test,w_found)\n",
    "\n",
    "true_loss_estimate = num_errors/m_test  # error rate on the test set\n",
    "#NOTE: you can avoid using num_errors if you prefer, as long as true_loss_estimate is correct\n",
    "print(\"Test Error of perpceptron (100 iterations): \" + str(true_loss_estimate))"
   ]
  },
  {
   "cell_type": "markdown",
   "metadata": {},
   "source": [
    "**TO DO** **[Answer the following]** What about the difference betweeen the training error and the test error  in terms of fraction of misclassified samples)? Explain what you observe. [Write the answer in this cell]\n",
    "\n",
    "**ANSWER QUESTION 1**\n",
    "Training error is of the order of 6%. Test error is bigger than training error. We have used just 100 iteration for valuate the best_w and the best_error but remind we have a set of 182 samples, maybe if we use more iteration the error can be more accurate. Let's see it."
   ]
  },
  {
   "cell_type": "markdown",
   "metadata": {},
   "source": [
    "**TO DO** Copy the code from the last 2 cells above in the cell below and repeat the training with 3000 iterations. Then print the error in the training set and the estimate of the true loss obtained from the test set."
   ]
  },
  {
   "cell_type": "code",
   "execution_count": 12,
   "metadata": {
    "scrolled": true
   },
   "outputs": [
    {
     "name": "stdout",
     "output_type": "stream",
     "text": [
      "Training Error of perpceptron (3000 iterations): 0.06043956043956044\n",
      "Test Error of perpceptron (3000 iterations): 0.11538461538461539\n"
     ]
    }
   ],
   "source": [
    "#now run the perceptron for 3000 iterations here!\n",
    "\n",
    "w_found, error = perceptron(X_training,Y_training, 3000)\n",
    "\n",
    "print(\"Training Error of perpceptron (3000 iterations): \" + str(error))\n",
    "\n",
    "def error(X,Y,w):\n",
    "    \n",
    "    num_samples = len(X)\n",
    "    num_errors=0\n",
    "    \n",
    "    for i in range(num_samples):\n",
    "        if Y[i]*np.dot(X[i],w) <= 0:\n",
    "            num_errors+=1\n",
    "            \n",
    "    return num_errors\n",
    "\n",
    "num_errors=error(X_test,Y_test,w_found)\n",
    "true_loss_estimate = num_errors/m_test\n",
    "\n",
    "print(\"Test Error of perpceptron (3000 iterations): \" + str(true_loss_estimate))"
   ]
  },
  {
   "cell_type": "markdown",
   "metadata": {},
   "source": [
    "**TO DO** [Answer the following] What about the difference betweeen the training error and the test error  in terms of fraction of misclassified samples) when running for a larger number of iterations ? Explain what you observe and compare with the previous case. [Write the answer in this cell]\n",
    "\n",
    "**ANSWER QUESTION 2**\n",
    "The training error is not very different as the one achieved with 100 iteration. The test error is the same as the previous one. Test error gives us a more reliable estimation on the True error.\n",
    "The results are not so much different between 100 and 3000 iterations because there are some misclassified examples that forbit the algorithm to learn the perfect w with 0 errors. If the misclassified examples are in a small number respect to the training set size, 100 iterations are enough to learn the best_w."
   ]
  },
  {
   "cell_type": "markdown",
   "metadata": {},
   "source": [
    "# Logistic Regression\n",
    "Now we use logistic regression, exploiting the implementation in Scikit-learn, to predict labels. We will also plot the decision region of logistic regression.\n",
    "\n",
    "We first load the dataset again."
   ]
  },
  {
   "cell_type": "code",
   "execution_count": 13,
   "metadata": {},
   "outputs": [
    {
     "name": "stdout",
     "output_type": "stream",
     "text": [
      "['Position', 'Height cm', 'kg', 'Age']\n"
     ]
    }
   ],
   "source": [
    "filename = 'data/NBA.csv'\n",
    "NBA = csv.reader(open(filename, newline=''), delimiter=',')\n",
    "\n",
    "header = next(NBA)\n",
    "print(header)\n",
    "\n",
    "dataset = list(NBA)\n",
    "for i in range(len(dataset)):\n",
    "    dataset[i] = [int(x) for x in dataset[i]]\n",
    "    \n",
    "dataset = np.asarray(dataset)\n",
    "\n",
    "X = dataset[:,1:]\n",
    "Y = dataset[:,0]\n",
    "\n",
    "Y = Y*2-1  # set labels to -1, 1 as required by perceptron implementation\n",
    "\n",
    "m = dataset.shape[0]\n",
    "permutation = np.random.permutation(m)\n",
    "\n",
    "X = X[permutation]\n",
    "Y = Y[permutation]"
   ]
  },
  {
   "cell_type": "markdown",
   "metadata": {},
   "source": [
    "**TO DO** As for the previous part, divide the data into training and test (70%-30%) and add a 1 as first component to each sample."
   ]
  },
  {
   "cell_type": "code",
   "execution_count": 14,
   "metadata": {},
   "outputs": [
    {
     "name": "stdout",
     "output_type": "stream",
     "text": [
      "[ 1  1  1  1  1 -1  1  1  1 -1  1  1  1 -1  1  1 -1 -1  1 -1  1 -1 -1  1\n",
      "  1  1  1  1 -1  1 -1  1  1 -1 -1  1 -1 -1  1  1 -1  1 -1 -1  1 -1 -1  1\n",
      " -1  1  1 -1  1 -1  1  1 -1 -1  1 -1 -1 -1  1 -1  1 -1  1  1 -1 -1  1  1\n",
      " -1 -1 -1  1 -1 -1  1  1  1  1  1 -1  1 -1 -1 -1 -1  1 -1 -1 -1 -1  1  1\n",
      " -1  1 -1  1  1 -1 -1  1  1 -1 -1  1  1 -1 -1 -1 -1 -1  1 -1  1  1 -1 -1\n",
      "  1 -1 -1 -1  1  1 -1  1  1 -1  1 -1 -1  1 -1 -1  1  1 -1  1 -1  1  1 -1\n",
      " -1  1 -1  1  1  1  1 -1  1  1  1  1  1  1  1  1 -1 -1  1 -1  1 -1  1  1\n",
      " -1  1  1  1  1 -1  1  1  1 -1  1 -1 -1  1]\n"
     ]
    }
   ],
   "source": [
    "#Divide in training and test: make sure that your training set\n",
    "#contains at least 10 elements from class 1 and at least 10 elements\n",
    "#from class -1! If it does not, modify the code so to apply more random\n",
    "#permutations (or the same permutation multiple times) until this happens.\n",
    "#IMPORTANT: do not change the random seed.\n",
    "\n",
    "m_training = m*70//100\n",
    "m_test = m-m_training\n",
    "\n",
    "X_training = X[0:m_training,:]\n",
    "Y_training = Y[0:m_training]\n",
    "\n",
    "X_test = X_test=X[m_training:m,:]\n",
    "Y_test = Y_test=Y[m_training:m]\n",
    "\n",
    "print(Y_training)"
   ]
  },
  {
   "cell_type": "markdown",
   "metadata": {},
   "source": [
    "To define a logistic regression model in Scikit-learn use the instruction\n",
    "\n",
    "$linear\\_model.LogisticRegression(C=1e5)$\n",
    "\n",
    "($C$ is a parameter related to *regularization*, a technique that\n",
    "we will see later in the course. Setting it to a high value is almost\n",
    "as ignoring regularization, so the instruction above corresponds to the\n",
    "logistic regression you have seen in class.)\n",
    "\n",
    "To learn the model you need to use the $fit(...)$ instruction and to predict you need to use the $predict(...)$ function. See the Scikit-learn documentation for how to use it.\n",
    "\n",
    "**TO DO** Define the logistic regression model, then learn the model using the training set and predict on the test set. Then print the fraction of samples misclassified in the training set and in the test set."
   ]
  },
  {
   "cell_type": "code",
   "execution_count": 15,
   "metadata": {},
   "outputs": [
    {
     "name": "stdout",
     "output_type": "stream",
     "text": [
      "Error rate on training set: 0.04395604395604396\n",
      "Error rate on test set: 0.10256410256410256\n"
     ]
    }
   ],
   "source": [
    "#part on logistic regression for 2 classes\n",
    "logreg = linear_model.LogisticRegression(C=1e5) #a large C disables regularization\n",
    "\n",
    "#learn from training set\n",
    "\n",
    "logreg.fit(X_training,Y_training)\n",
    "\n",
    "#predict on training set\n",
    "\n",
    "Y_training_predict=logreg.predict(X_training)\n",
    "\n",
    "#print the error rate = fraction of misclassified samples\n",
    "error_rate_training = 0\n",
    "\n",
    "for i in range(m_training):\n",
    "    if (Y_training_predict[i] != Y_training[i] ):\n",
    "        error_rate_training+=1\n",
    "        \n",
    "error_rate_training/=m_training\n",
    "\n",
    "print(\"Error rate on training set: \"+str(error_rate_training))\n",
    "\n",
    "#predict on test set\n",
    "\n",
    "Y_test_predict=logreg.predict(X_test)\n",
    "\n",
    "#print the error rate = fraction of misclassified samples\n",
    "error_rate_test = 0\n",
    "\n",
    "for i in range(m_test):\n",
    "    if (Y_test_predict[i] != Y_test[i]):\n",
    "        error_rate_test+=1\n",
    "        \n",
    "error_rate_test/=m_test\n",
    "\n",
    "print(\"Error rate on test set: \" + str(error_rate_test))"
   ]
  },
  {
   "cell_type": "markdown",
   "metadata": {},
   "source": [
    "**TO DO** Now pick two features and restrict the dataset to include only two features, whose indices are specified in the $feature$ vector below. Then split into training and test. Which features are you going to select ?"
   ]
  },
  {
   "cell_type": "code",
   "execution_count": 16,
   "metadata": {},
   "outputs": [],
   "source": [
    "#to make the plot we need to reduce the data to 2D, so we choose two features\n",
    "features_list = ['height', 'weight', 'age']\n",
    "labels_list = ['Center', 'Point guard']\n",
    "\n",
    "# select a pair of features\n",
    "index_feature1 = 0 # we choose height\n",
    "index_feature2 = 1 # and weight (age of course is not very meaningful)\n",
    "features = [index_feature1, index_feature2]\n",
    "\n",
    "feature_name0 = features_list[features[0]]\n",
    "feature_name1 = features_list[features[1]]\n",
    "\n",
    "X_reduced = X[:,features]\n",
    "\n",
    "X_training = X_training[:,features]\n",
    "Y_training = Y_training\n",
    "\n",
    "X_test = X_test[:,features]\n",
    "Y_test = Y_test"
   ]
  },
  {
   "cell_type": "markdown",
   "metadata": {},
   "source": [
    "Now learn a model using the training data and measure the performances."
   ]
  },
  {
   "cell_type": "code",
   "execution_count": 17,
   "metadata": {},
   "outputs": [
    {
     "name": "stdout",
     "output_type": "stream",
     "text": [
      "Error rate on training set: 0.04395604395604396\n",
      "Error rate on test set: 0.10256410256410256\n"
     ]
    }
   ],
   "source": [
    "#part on logistic regression for 2 classes\n",
    "logreg_2 = linear_model.LogisticRegression(C=1e5) #a large C disables regularization\n",
    "\n",
    "#learn from training set\n",
    "\n",
    "logreg_2.fit(X_training,Y_training)\n",
    "\n",
    "#predict on training set\n",
    "\n",
    "Y_training_predict=logreg_2.predict(X_training)\n",
    "\n",
    "#print the error rate = fraction of misclassified samples\n",
    "error_rate_training = 0\n",
    "\n",
    "for i in range(m_training):\n",
    "    if (Y_training_predict[i] != Y_training[i] ):\n",
    "        error_rate_training+=1\n",
    "        \n",
    "error_rate_training/=m_training\n",
    "\n",
    "print(\"Error rate on training set: \"+str(error_rate_training))\n",
    "\n",
    "#predict on test set\n",
    "\n",
    "Y_test_predict=logreg_2.predict(X_test)\n",
    "\n",
    "#print the error rate = fraction of misclassified samples\n",
    "error_rate_test = 0\n",
    "\n",
    "for i in range(m_test):\n",
    "    if (Y_test_predict[i] != Y_test[i]):\n",
    "        error_rate_test+=1\n",
    "        \n",
    "error_rate_test/=m_test\n",
    "\n",
    "print(\"Error rate on test set: \" + str(error_rate_test))"
   ]
  },
  {
   "cell_type": "markdown",
   "metadata": {},
   "source": [
    "**TO DO** [Answer the following] Which features did you select and why ? Compare the perfromances with the ones of the case with all the 3 features and comment about the results. [Write the answer in this cell]\n",
    "\n",
    "**ANSWER QUESTION 3**\n",
    "I select weight and height because age is not relevant for the choice of the position. We observe that the error rate are the same in both case, so we can assert that the feature \"age\" is uncorrelated with the choice of the label. This is because age is equally distributed in both labels -1 and 1."
   ]
  },
  {
   "cell_type": "markdown",
   "metadata": {},
   "source": [
    "If everything is ok, the code below uses the model in $logreg$ to plot the decision region for the two features chosen above, with colors denoting the predicted value. It also plots the points (with correct labels) in the training set. It makes a similar plot for the test set."
   ]
  },
  {
   "cell_type": "code",
   "execution_count": 18,
   "metadata": {
    "scrolled": true
   },
   "outputs": [
    {
     "data": {
      "image/png": "[encoded data removed]",
      "text/plain": [
       "<Figure size 288x216 with 1 Axes>"
      ]
     },
     "metadata": {},
     "output_type": "display_data"
    },
    {
     "data": {
      "image/png": "[encoded data removed]",
      "text/plain": [
       "<Figure size 288x216 with 1 Axes>"
      ]
     },
     "metadata": {},
     "output_type": "display_data"
    }
   ],
   "source": [
    "# Plot the decision boundary. For that, we will assign a color to each\n",
    "# point in the mesh [x_min, x_max]x[y_min, y_max].\n",
    "\n",
    "# NOTICE: This visualization code has been developed for a \"standard\" solution of the notebook, \n",
    "# it could be necessary to make some fixes to adapt to your implementation\n",
    "\n",
    "h = .02  # step size in the mesh\n",
    "x_min, x_max = X_reduced[:, 0].min() - .5, X_reduced[:, 0].max() + .5\n",
    "y_min, y_max = X_reduced[:, 1].min() - .5, X_reduced[:, 1].max() + .5\n",
    "xx, yy = np.meshgrid(np.arange(x_min, x_max, h), np.arange(y_min, y_max, h))\n",
    "\n",
    "Z = logreg_2.predict(np.c_[xx.ravel(), yy.ravel()])\n",
    "\n",
    "# Put the result into a color plot\n",
    "Z = Z.reshape(xx.shape)\n",
    "\n",
    "plt.figure(1, figsize=(4, 3))\n",
    "plt.pcolormesh(xx, yy, Z, cmap=plt.cm.Paired)\n",
    "\n",
    "# Plot also the training points\n",
    "plt.scatter(X_training[:, 0], X_training[:, 1], c=Y_training, edgecolors='k', cmap=plt.cm.Paired)\n",
    "plt.xlabel(feature_name0)\n",
    "plt.ylabel(feature_name1)\n",
    "\n",
    "plt.xlim(xx.min(), xx.max())\n",
    "plt.ylim(yy.min(), yy.max())\n",
    "plt.xticks(())\n",
    "plt.yticks(())\n",
    "plt.title('Training set')\n",
    "\n",
    "plt.show()\n",
    "\n",
    "# Put the result into a color plot\n",
    "Z = Z.reshape(xx.shape)\n",
    "plt.figure(1, figsize=(4, 3))\n",
    "plt.pcolormesh(xx, yy, Z, cmap=plt.cm.Paired)\n",
    "\n",
    "# Plot also the test points \n",
    "plt.scatter(X_test[:, 0], X_test[:, 1], c=Y_test, edgecolors='k', cmap=plt.cm.Paired, marker='s')\n",
    "plt.xlabel(feature_name0)\n",
    "plt.ylabel(feature_name1)\n",
    "\n",
    "plt.xlim(xx.min(), xx.max())\n",
    "plt.ylim(yy.min(), yy.max())\n",
    "plt.xticks(())\n",
    "plt.yticks(())\n",
    "plt.title('Test set')\n",
    "\n",
    "plt.show()"
   ]
  },
  {
   "cell_type": "markdown",
   "metadata": {},
   "source": [
    "# 2) Linear Regression on the Boston House Price dataset\n",
    "\n",
    "Dataset description: <br>\n",
    "The Boston House Price Dataset involves the prediction of a house price in thousands of dollars given details about the house and its neighborhood.\n",
    "\n",
    "The dataset contains a total of 500 observations, which relate 13 input features to an output variable (house price).\n",
    "\n",
    "The variable names are as follows:\n",
    "\n",
    "CRIM: per capita crime rate by town.\n",
    "\n",
    "ZN: proportion of residential land zoned for lots over 25,000 sq.ft.\n",
    "\n",
    "INDUS: proportion of nonretail business acres per town.\n",
    "\n",
    "CHAS: Charles River dummy variable (= 1 if tract bounds river; 0 otherwise).\n",
    "\n",
    "NOX: nitric oxides concentration (parts per 10 million).\n",
    "\n",
    "RM: average number of rooms per dwelling.\n",
    "\n",
    "AGE: proportion of owner-occupied units built prior to 1940.\n",
    "\n",
    "DIS: weighted distances to five Boston employment centers.\n",
    "\n",
    "RAD: index of accessibility to radial highways.\n",
    "\n",
    "TAX: full-value property-tax rate per $10,000.\n",
    "\n",
    "PTRATIO: pupil-teacher ratio by town.\n",
    "\n",
    "B: 1000*(Bk – 0.63)2 where Bk is the proportion of blacks by town.\n",
    "\n",
    "LSTAT: % lower status of the population.\n",
    "\n",
    "MEDV: Median value of owner-occupied homes in $1000s.\n",
    "    "
   ]
  },
  {
   "cell_type": "code",
   "execution_count": 19,
   "metadata": {},
   "outputs": [],
   "source": [
    "#needed if you get the IPython/javascript error on the in-line plots\n",
    "%matplotlib nbagg  \n",
    "\n",
    "import matplotlib.pyplot as plt\n",
    "import numpy as np\n",
    "import scipy as sp\n",
    "from scipy import stats"
   ]
  },
  {
   "cell_type": "code",
   "execution_count": 20,
   "metadata": {},
   "outputs": [
    {
     "name": "stdout",
     "output_type": "stream",
     "text": [
      "DescribeResult(nobs=500, minmax=(array([6.3200e-03, 0.0000e+00, 4.6000e-01, 0.0000e+00, 3.8500e-01,\n",
      "       3.5610e+00, 2.9000e+00, 1.1296e+00, 1.0000e+00, 1.8700e+02,\n",
      "       1.2600e+01, 3.2000e-01, 1.7300e+00, 5.0000e+01]), array([ 88.9762, 100.    ,  27.74  ,   1.    ,   0.871 ,   8.78  ,\n",
      "       100.    ,  12.1265,  24.    , 711.    ,  22.    , 396.9   ,\n",
      "        37.97  , 500.    ])), mean=array([3.65578576e+00, 1.15000000e+01, 1.11317400e+01, 7.00000000e-02,\n",
      "       5.54451400e-01, 6.28297000e+00, 6.84246000e+01, 3.81193180e+00,\n",
      "       9.64200000e+00, 4.09624000e+02, 1.84286000e+01, 3.56208040e+02,\n",
      "       1.26987400e+01, 2.25680000e+02]), variance=array([7.47252195e+01, 5.48905812e+02, 4.76198228e+01, 6.52304609e-02,\n",
      "       1.35838329e-02, 4.97618330e-01, 7.99314163e+02, 4.46304043e+00,\n",
      "       7.59617595e+01, 2.85605197e+04, 4.67663531e+00, 8.41657137e+03,\n",
      "       5.13361942e+01, 8.52982926e+03]), skewness=array([ 5.17851447,  2.19924065,  0.29469001,  3.37060575,  0.72944382,\n",
      "        0.40691344, -0.58266003,  0.99061328,  0.9886802 ,  0.65098333,\n",
      "       -0.79127942, -2.85972639,  0.89051925,  1.09625625]), kurtosis=array([36.3384518 ,  3.88460431, -1.25254394,  9.3609831 , -0.10223624,\n",
      "        1.84311394, -0.99523636,  0.43299159, -0.90519243, -1.16696682,\n",
      "       -0.30903922,  7.00864873,  0.44527324,  1.4266838 ]))\n",
      "Shape of data array: (500, 14)\n",
      "[[6.3200e-03 1.8000e+01 2.3100e+00 ... 3.9690e+02 4.9800e+00 2.4000e+02]\n",
      " [2.7310e-02 0.0000e+00 7.0700e+00 ... 3.9690e+02 9.1400e+00 2.1600e+02]\n",
      " [2.7290e-02 0.0000e+00 7.0700e+00 ... 3.9283e+02 4.0300e+00 3.4700e+02]\n",
      " ...\n",
      " [2.6838e-01 0.0000e+00 9.6900e+00 ... 3.9690e+02 1.4100e+01 1.8300e+02]\n",
      " [2.3912e-01 0.0000e+00 9.6900e+00 ... 3.9690e+02 1.2920e+01 2.1200e+02]\n",
      " [1.7783e-01 0.0000e+00 9.6900e+00 ... 3.9577e+02 1.5100e+01 1.7500e+02]]\n"
     ]
    }
   ],
   "source": [
    "#Import Data: Load the data from a .csv file\n",
    "\n",
    "filename = \"data/house.csv\"\n",
    "Data = np.genfromtxt(filename, delimiter=';',skip_header=1)\n",
    "\n",
    "#A quick overview of data, to inspect the data you can use the method describe()\n",
    "\n",
    "dataDescription = stats.describe(Data)\n",
    "print(dataDescription)\n",
    "print (\"Shape of data array: \" + str(Data.shape))\n",
    "\n",
    "\n",
    "#for more interesting visualization: use Panda!\n",
    "print(Data)"
   ]
  },
  {
   "cell_type": "markdown",
   "metadata": {},
   "source": [
    "# Split data in training, validation and test sets\n",
    "\n",
    "\n",
    "\n",
    "Given $m$ total data, denote with $m_{tv}$ the part used for training and validation. Keep $m_t$ data as training data, $m_{val}:=m_{tv}-m_t$ as validation data and $m_{test}:=m - m_{val} - m_t = m-m_{tv}$. For instance one can take $m_t=0.6m$ of the data as training, $m_{val}=0.2m$  validation and $m_{test}=0.2m$ as testing. Let us define as define\n",
    "\n",
    "$\\bullet$ $S_{t}$ the training data set\n",
    "\n",
    "$\\bullet$ $S_{val}$ the validation data set\n",
    "\n",
    "$\\bullet$ $S_{test}$ the testing data set\n",
    "\n",
    "\n",
    "The reason for this splitting is as follows:\n",
    "\n",
    "TRAINING DATA: The training data are used to compute the empirical loss\n",
    "$$\n",
    "L_S(h) = \\frac{1}{m_t} \\sum_{z_i \\in S_{t}} \\ell(h,z_i)\n",
    "$$\n",
    "which is used to estimate $h$ in a given model class ${\\cal H}$.\n",
    "i.e. \n",
    "$$\n",
    "\\hat{h} = {\\rm arg\\; min}_{h \\in {\\cal H}} \\, L_S(h)\n",
    "$$\n",
    "\n",
    "VALIDATION DATA: When different model classes are present (e.g. of different complexity such as linear regression which uses a different number $d_j$ of regressors $x_1$,...$x_{d_j}$), one has to choose which one is the \"best\" complexity. In this simple example the validation set is not needed, but it is better to get used with it.\n",
    "Let ${\\cal H}_{d_j}$ be the space of models as a function of the complexity $d_j$ and let \n",
    "$$\n",
    "\\hat h_{d_j} = {\\rm arg\\; min}_{h \\in {\\cal H}_{d_j}} \\, L_S(h)\n",
    "$$\n",
    "\n",
    "One can estimate the generalization error for model $\\hat h_{d_j}$ as follows:\n",
    "$$\n",
    "L_{{\\cal D}}(\\hat h_{d_j}) \\simeq \\frac{1}{m_{val}} \\sum_{ z_i \\in S_{val}} \\ell(\\hat h_{d_j},z_i)\n",
    "$$\n",
    "and then choose the complexity which achieves the best estimate of the generalization error\n",
    "$$\n",
    "\\hat d_j: = {\\rm arg\\; min}_{d_j} \\,\\frac{1}{m_{val}} \\sum_{ z_i \\in S_{val}} \\ell(\\hat h_{d_j},z_i)\n",
    "$$\n",
    "\n",
    "TESTING DATA: Last, the test data set can be used to estimate the performance of the final estimated model\n",
    "$\\hat h_{\\hat d_j}$ using:\n",
    "$$\n",
    "L_{{\\cal D}}(\\hat h_{\\hat d_j}) \\simeq \\frac{1}{m_{test}} \\sum_{ z_i \\in S_{test}} \\ell(\\hat h_{\\hat d_j},z_i)\n",
    "$$\n",
    "\n",
    "\n",
    "**TO DO**: split the data in training, validation and test sets (60%-20%-20%)"
   ]
  },
  {
   "cell_type": "code",
   "execution_count": 21,
   "metadata": {},
   "outputs": [
    {
     "name": "stdout",
     "output_type": "stream",
     "text": [
      "Total number of samples:  500\n",
      "Size of each chunk of data:  100\n",
      "Training input data size:  (300, 13)\n",
      "Training output data size:  (300,)\n",
      "Validation input data size:  (100, 13)\n",
      "Validation output data size:  (100,)\n",
      "Test input data size:  (100, 13)\n",
      "Test output data size:  (100,)\n"
     ]
    }
   ],
   "source": [
    "#get number of total samples\n",
    "num_total_samples = Data.shape[0]\n",
    "\n",
    "print (\"Total number of samples: \", num_total_samples)\n",
    "\n",
    "#size of each chunk of data (1/4 each): 2 of them for training, 1 for validation, 1 for testing\n",
    "size_chunk = num_total_samples//5\n",
    "\n",
    "print (\"Size of each chunk of data: \", size_chunk)\n",
    "\n",
    "#shuffle the data\n",
    "np.random.shuffle(Data)\n",
    "\n",
    "#training data \n",
    "\n",
    "X_training = Data[0:3*size_chunk,:13]\n",
    "Y_training = Data[0:3*size_chunk,13]\n",
    "print (\"Training input data size: \", X_training.shape)\n",
    "print (\"Training output data size: \", Y_training.shape)\n",
    "\n",
    "#validation data, to be used to choose among different models\n",
    "X_validation = Data[3*size_chunk:4*size_chunk,:13]\n",
    "Y_validation = Data[3*size_chunk:4*size_chunk,13]\n",
    "print (\"Validation input data size: \", X_validation.shape)\n",
    "print (\"Validation output data size: \", Y_validation.shape)\n",
    "\n",
    "#test data, to be used to estimate the true loss of the final model(s)\n",
    "X_test = Data[4*size_chunk:5*size_chunk,:13]\n",
    "Y_test = Data[4*size_chunk:5*size_chunk,13]\n",
    "print (\"Test input data size: \", X_test.shape)\n",
    "print (\"Test output data size: \", Y_test.shape)"
   ]
  },
  {
   "cell_type": "markdown",
   "metadata": {},
   "source": [
    "# Data Normalization\n",
    "It is common practice in Statistics and Machine Learning to scale the data (= each variable) so that it is centered (zero mean) and has standard deviation equal to 1. This helps in terms of numerical conditioning of the (inverse) problems of estimating the model (the coefficients of the linear regression in this case), as well as to give the same scale to all the coefficients."
   ]
  },
  {
   "cell_type": "code",
   "execution_count": 22,
   "metadata": {},
   "outputs": [
    {
     "name": "stdout",
     "output_type": "stream",
     "text": [
      "Mean of the training input data: [-2.03540888e-18  9.21485110e-17  2.34742781e-15 -1.19348975e-16\n",
      "  4.71201781e-15  7.04621546e-16 -4.16333634e-16  4.15223411e-16\n",
      "  6.51330841e-17 -2.08629410e-16  2.11327252e-14  4.24882352e-15\n",
      " -5.65103520e-16]\n",
      "Std of the training input data: [1. 1. 1. 1. 1. 1. 1. 1. 1. 1. 1. 1. 1.]\n",
      "Mean of the validation input data: [ 0.08157769 -0.09341946  0.25843861  0.11867817  0.11358287 -0.07505331\n",
      "  0.10319719 -0.15818027  0.27767412  0.24241048  0.0068629   0.00412533\n",
      "  0.22044801]\n",
      "Std of the validation input data: [0.76865239 0.83021983 0.98586777 1.20737172 0.97831595 1.1353067\n",
      " 1.03278563 1.02825403 1.11767869 1.13956498 1.03561307 0.95513565\n",
      " 1.19142959]\n",
      "Mean of the test input data: [ 0.09026845 -0.0906583   0.12433383  0.2521911  -0.00867355 -0.0686759\n",
      " -0.09492139 -0.00957658  0.19833865  0.16045403 -0.12789941 -0.08573011\n",
      "  0.04750058]\n",
      "Std of the test input data: [0.90338628 0.74987379 0.96929533 1.39249434 0.94283424 1.13845849\n",
      " 1.00911732 0.97447912 1.07548433 1.07314086 1.01174046 1.1795011\n",
      " 1.22399125]\n"
     ]
    }
   ],
   "source": [
    "#scale the data\n",
    "\n",
    "# standardize the input matrix\n",
    "from sklearn import preprocessing\n",
    "# the transformation is computed on training data and then used on all the 3 sets\n",
    "scaler = preprocessing.StandardScaler().fit(X_training) \n",
    "\n",
    "X_training = scaler.transform(X_training)\n",
    "print (\"Mean of the training input data:\", X_training.mean(axis=0))\n",
    "print (\"Std of the training input data:\",X_training.std(axis=0))\n",
    "\n",
    "X_validation = scaler.transform(X_validation) # use the same transformation on validation data\n",
    "print (\"Mean of the validation input data:\", X_validation.mean(axis=0))\n",
    "print (\"Std of the validation input data:\", X_validation.std(axis=0))\n",
    "\n",
    "X_test = scaler.transform(X_test) # use the same transformation on test data\n",
    "print (\"Mean of the test input data:\", X_test.mean(axis=0))\n",
    "print (\"Std of the test input data:\", X_test.std(axis=0))"
   ]
  },
  {
   "cell_type": "markdown",
   "metadata": {},
   "source": [
    "# Model Training \n",
    "\n",
    "The model is trained (= estimated) minimizing the empirical error\n",
    "$$\n",
    "L_S(h) := \\frac{1}{m_t} \\sum_{z_i \\in S_{t}} \\ell(h,z_i)\n",
    "$$\n",
    "When the loss function is the quadratic loss\n",
    "$$\n",
    "\\ell(h,z) := (y - h(x))^2\n",
    "$$\n",
    "we define  the Residual Sum of Squares (RSS) as\n",
    "$$\n",
    "RSS(h):= \\sum_{z_i \\in S_{t}} \\ell(h,z_i) = \\sum_{z_i \\in S_{t}} (y_i - h(x_i))^2\n",
    "$$ so that the training error becomes\n",
    "$$\n",
    "L_S(h) = \\frac{RSS(h)}{m_t}\n",
    "$$\n",
    "\n",
    "We recal that, for linear models we have $h(x) = <w,x>$ and the Empirical error $L_S(h)$ can be written\n",
    "in terms of the vector of parameters $w$ in the form\n",
    "$$\n",
    "L_S(w) = \\frac{1}{m_t} \\|Y - X w\\|^2\n",
    "$$\n",
    "where $Y$ and $X$ are the matrices whose $i-$th row are, respectively, the output data $y_i$ and the input vectors $x_i^\\top$.\n",
    "\n",
    "\n",
    " **TO DO:** compute the linear regression coefficients using np.linalg.lstsq from scikitlear \n",
    " "
   ]
  },
  {
   "cell_type": "code",
   "execution_count": 23,
   "metadata": {},
   "outputs": [
    {
     "name": "stdout",
     "output_type": "stream",
     "text": [
      "LS coefficients with numpy lstsq: [226.56       -11.3727375    9.97393906   3.21283864   7.54523307\n",
      " -13.85137585  29.17306438  -5.963805   -31.10632641  21.51471326\n",
      " -19.81062311 -17.53274637   8.64609618 -38.50730349]\n",
      "RSS with hand:  587473.6580151927\n",
      "RSS with numpy lstsq:  [587473.65801519]\n",
      "Empirical risk with numpy lstsq: [1958.24552672]\n"
     ]
    }
   ],
   "source": [
    "#compute linear regression coefficients for training data\n",
    "\n",
    "\n",
    "#add a 1 at the beginning of each sample for training, validation, and testing (use homogeneous coordinates)\n",
    "m_training = X_training.shape[0]\n",
    "X_trainingH = np.hstack((np.ones((m_training,1)),X_training)) # H: in homogeneous coordinates\n",
    "#print (X_trainingH[0])\n",
    "\n",
    "m_validation = X_validation.shape[0]\n",
    "X_validationH = np.hstack((np.ones((m_validation,1)),X_validation))  # H: in homogeneous coordinates\n",
    "#print X_validation[0,:]\n",
    "\n",
    "m_test = X_test.shape[0]\n",
    "X_testH = np.hstack((np.ones((m_test,1)),X_test))  # H: in homogeneous coordinates\n",
    "#print X_test[0,:]\n",
    "\n",
    "\n",
    "# Compute the least-squares coefficients using linalg.lstsq\n",
    "w_np, RSStr_np, rank_Xtr, sv_Xtr =  np.linalg.lstsq(X_trainingH, Y_training, rcond=None)\n",
    "print(\"LS coefficients with numpy lstsq:\", w_np)\n",
    "\n",
    "# compute Residual sums of squares \n",
    "RSStr_hand=np.sum((Y_training - np.dot(X_trainingH,w_np))**2)\n",
    "        \n",
    "print('RSS with hand: ', RSStr_hand)\n",
    "print(\"RSS with numpy lstsq: \", RSStr_np)\n",
    "print(\"Empirical risk with numpy lstsq:\", RSStr_np/m_training)"
   ]
  },
  {
   "cell_type": "markdown",
   "metadata": {},
   "source": [
    "## Data prediction \n",
    "\n",
    "Compute the output predictions on both training and validation set and compute the Residual Sum of Sqaures (RSS). \n",
    "\n",
    "**TO DO**: Compute these quantities on  training, validation and test sets."
   ]
  },
  {
   "cell_type": "code",
   "execution_count": 24,
   "metadata": {},
   "outputs": [
    {
     "name": "stdout",
     "output_type": "stream",
     "text": [
      "RSS on validation data: 201008.90279461513\n",
      "Loss estimated from validation data: 2010.0890279461514\n",
      "RSS on test data: 338886.82349999144\n",
      "Loss estimated from test data: 3388.8682349999144\n"
     ]
    }
   ],
   "source": [
    "#compute predictions on training and validation\n",
    "\n",
    "#prediction_training \n",
    "prediction_training = np.dot(X_trainingH,w_np)\n",
    "prediction_validation = np.dot(X_validationH,w_np)\n",
    "prediction_test = np.dot(X_testH,w_np)\n",
    "\n",
    "#what about the loss for points in the validation data?\n",
    "RSS_validation = np.sum((Y_validation - prediction_validation)**2)\n",
    "RSS_test = np.sum((Y_test - prediction_test)**2)\n",
    "\n",
    "print(\"RSS on validation data:\",  RSS_validation)\n",
    "print(\"Loss estimated from validation data:\", RSS_validation/m_validation)\n",
    "\n",
    "print(\"RSS on test data:\",  RSS_test)\n",
    "print(\"Loss estimated from test data:\", RSS_test/m_test)"
   ]
  },
  {
   "cell_type": "markdown",
   "metadata": {},
   "source": [
    "### QUESTION 4: Comment on the results you get and on the difference between the train, validation and test errors.\n",
    "\n",
    "Model is trained minimizing the empirical error, which in this case is [1958.24552672]. \n",
    "The loss from validation data and test data are of the same order of the training data's one. Test set is a more reliable estimation of the True Error, which we can see is bigger than the empirical error.\n",
    "So training error is smaller than validation error, which is smaller than test error."
   ]
  },
  {
   "cell_type": "markdown",
   "metadata": {},
   "source": [
    "## Ordinary Least-Squares using scikit-learn\n",
    "Another fast way to compute the LS estimate is through sklearn.linear_model (for this function homogeneous coordinates are not needed)."
   ]
  },
  {
   "cell_type": "code",
   "execution_count": 25,
   "metadata": {},
   "outputs": [
    {
     "name": "stdout",
     "output_type": "stream",
     "text": [
      "Intercept: 226.56000000000034\n",
      "Least-Squares Coefficients: [-11.3727375    9.97393906   3.21283864   7.54523307 -13.85137585\n",
      "  29.17306438  -5.963805   -31.10632641  21.51471326 -19.81062311\n",
      " -17.53274637   8.64609618 -38.50730349]\n",
      "Measure on training data: 0.23371730067400198\n"
     ]
    }
   ],
   "source": [
    "from sklearn import linear_model\n",
    "from sklearn.linear_model import LinearRegression\n",
    "\n",
    "# build the LinearRegression() model and train it\n",
    "LinReg = LinearRegression().fit(X_training,Y_training)\n",
    "\n",
    "# PLACE YOUR CODE\n",
    "\n",
    "print(\"Intercept:\", LinReg.intercept_)\n",
    "print(\"Least-Squares Coefficients:\", LinReg.coef_)\n",
    "\n",
    "# predict output values on training and test sets\n",
    "\n",
    "prediction_training=LinReg.predict(X_training)\n",
    "prediction_training=LinReg.predict(X_test)\n",
    "\n",
    "# return a prediction score based on the coefficient of determination\n",
    "print(\"Measure on training data:\", 1-LinReg.score(X_training, Y_training))"
   ]
  },
  {
   "cell_type": "code",
   "execution_count": null,
   "metadata": {},
   "outputs": [],
   "source": []
  }
 ],
 "metadata": {
  "anaconda-cloud": {},
  "kernelspec": {
   "display_name": "Python 3",
   "language": "python",
   "name": "python3"
  },
  "language_info": {
   "codemirror_mode": {
    "name": "ipython",
    "version": 3
   },
   "file_extension": ".py",
   "mimetype": "text/x-python",
   "name": "python",
   "nbconvert_exporter": "python",
   "pygments_lexer": "ipython3",
   "version": "3.8.3"
  }
 },
 "nbformat": 4,
 "nbformat_minor": 2
}
