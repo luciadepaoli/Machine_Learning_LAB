{
 "cells": [
  {
   "cell_type": "markdown",
   "metadata": {},
   "source": [
    "# Clothes Classification with Neural Networks\n",
    "\n",
    "In this notebook we are going to use the Neural Networks for image classification. We are going to use the same dataset of Lab 2 on SVM: Fashion MNIST (https://pravarmahajan.github.io/fashion/), a dataset of small images of clothes and accessories.\n",
    "\n",
    "The dataset labels are the following:\n",
    "\n",
    "| Label | Description |\n",
    "| --- | --- |\n",
    "| 0 | T-shirt/top |\n",
    "| 1 | Trouser |\n",
    "| 2 | Pullover |\n",
    "| 3 | Dress |\n",
    "| 4 | Coat |\n",
    "| 5 | Sandal |\n",
    "| 6 | Shirt |\n",
    "| 7 | Sneaker |\n",
    "| 8 | Bag |\n",
    "| 9 | Ankle boot |"
   ]
  },
  {
   "cell_type": "code",
   "execution_count": 1,
   "metadata": {},
   "outputs": [
    {
     "name": "stdout",
     "output_type": "stream",
     "text": [
      "scikit-learn version:  0.23.1\n"
     ]
    }
   ],
   "source": [
    "#load the required packages and check Scikit-learn version\n",
    "\n",
    "%matplotlib inline  \n",
    "\n",
    "import numpy as np\n",
    "import scipy as sp\n",
    "import matplotlib.pyplot as plt\n",
    "\n",
    "import sklearn\n",
    "print ('scikit-learn version: ', sklearn.__version__)\n",
    "from sklearn.neural_network import MLPClassifier\n",
    "from sklearn.model_selection import GridSearchCV\n",
    "from sklearn.svm import SVC"
   ]
  },
  {
   "cell_type": "code",
   "execution_count": 2,
   "metadata": {},
   "outputs": [],
   "source": [
    "# helper function to load Fashion MNIST dataset from disk\n",
    "def load_mnist(path, kind='train'):\n",
    "    import os\n",
    "    import gzip\n",
    "    import numpy as np\n",
    "    labels_path = os.path.join(path, '%s-labels-idx1-ubyte.gz' % kind)\n",
    "    images_path = os.path.join(path, '%s-images-idx3-ubyte.gz' % kind)\n",
    "    with gzip.open(labels_path, 'rb') as lbpath:\n",
    "        labels = np.frombuffer(lbpath.read(), dtype=np.uint8,offset=8)\n",
    "    with gzip.open(images_path, 'rb') as imgpath:\n",
    "        images = np.frombuffer(imgpath.read(), dtype=np.uint8,offset=16).reshape(len(labels), 784)\n",
    "    return images, labels"
   ]
  },
  {
   "cell_type": "markdown",
   "metadata": {},
   "source": [
    "# TODO \n",
    "Place a seed for the random generatoryour (you can use your \"numero di matricola\"). Try to change the seed to see the impact of the randomization."
   ]
  },
  {
   "cell_type": "code",
   "execution_count": 3,
   "metadata": {},
   "outputs": [],
   "source": [
    "ID = 2016960\n",
    "np.random.seed(ID)"
   ]
  },
  {
   "cell_type": "code",
   "execution_count": 4,
   "metadata": {},
   "outputs": [
    {
     "name": "stdout",
     "output_type": "stream",
     "text": [
      "Number of samples in the MNIST dataset: 60000\n"
     ]
    }
   ],
   "source": [
    "#load the MNIST dataset and let's normalize the features so that each value is in [0,1]\n",
    "X, y = load_mnist(\"data\")\n",
    "print(\"Number of samples in the MNIST dataset:\", X.shape[0])\n",
    "# rescale the data\n",
    "X = X / 255.0"
   ]
  },
  {
   "cell_type": "markdown",
   "metadata": {},
   "source": [
    "Now split into training and test. We start with a small training set of 600 samples to reduce computation time while 4000 samples will be used for testing. Make sure that each label is present at least 10 times in train and test set frequencies."
   ]
  },
  {
   "cell_type": "code",
   "execution_count": 5,
   "metadata": {},
   "outputs": [
    {
     "name": "stdout",
     "output_type": "stream",
     "text": [
      "Labels in training dataset:  [0 1 2 3 4 5 6 7 8 9]\n",
      "Frequencies in training dataset:  [59 55 70 58 52 52 63 79 54 58]\n",
      "Labels in test set:  [0 1 2 3 4 5 6 7 8 9]\n",
      "Frequencies in test set:  [415 406 421 370 369 398 408 419 394 400]\n"
     ]
    }
   ],
   "source": [
    "#random permute the data and split into training and test taking the first 600\n",
    "#data samples as training and 4000 as test set\n",
    "permutation = np.random.permutation(X.shape[0])\n",
    "\n",
    "X = X[permutation]\n",
    "y = y[permutation]\n",
    "\n",
    "m_training = 600\n",
    "m_test = 4000\n",
    "\n",
    "X_train, X_test = X[:m_training], X[m_training:m_training+m_test]\n",
    "y_train, y_test = y[:m_training], y[m_training:m_training+m_test]\n",
    "\n",
    "labels, freqs = np.unique(y_train, return_counts=True)\n",
    "print(\"Labels in training dataset: \", labels)\n",
    "print(\"Frequencies in training dataset: \", freqs)\n",
    "\n",
    "labelsT, freqsT = np.unique(y_test, return_counts=True)\n",
    "print(\"Labels in test set: \", labelsT)\n",
    "print(\"Frequencies in test set: \", freqsT)\n"
   ]
  },
  {
   "cell_type": "code",
   "execution_count": 6,
   "metadata": {},
   "outputs": [],
   "source": [
    "#function for plotting a image and printing the corresponding label\n",
    "def plot_input(X_matrix, labels, index):\n",
    "    print(\"INPUT:\")\n",
    "    plt.imshow(\n",
    "        X_matrix[index].reshape(28,28),\n",
    "        cmap          = plt.cm.gray_r,\n",
    "        interpolation = \"nearest\"\n",
    "    )\n",
    "    plt.show()\n",
    "    print(\"LABEL: %i\"%labels[index])\n",
    "    return"
   ]
  },
  {
   "cell_type": "code",
   "execution_count": 7,
   "metadata": {},
   "outputs": [
    {
     "name": "stdout",
     "output_type": "stream",
     "text": [
      "INPUT:\n"
     ]
    },
    {
     "data": {
      "image/png": "[encoded data removed]",
      "text/plain": [
       "<Figure size 432x288 with 1 Axes>"
      ]
     },
     "metadata": {
      "needs_background": "light"
     },
     "output_type": "display_data"
    },
    {
     "name": "stdout",
     "output_type": "stream",
     "text": [
      "LABEL: 6\n",
      "INPUT:\n"
     ]
    },
    {
     "data": {
      "image/png": "[encoded data removed]",
      "text/plain": [
       "<Figure size 432x288 with 1 Axes>"
      ]
     },
     "metadata": {
      "needs_background": "light"
     },
     "output_type": "display_data"
    },
    {
     "name": "stdout",
     "output_type": "stream",
     "text": [
      "LABEL: 1\n",
      "INPUT:\n"
     ]
    },
    {
     "data": {
      "image/png": "[encoded data removed]",
      "text/plain": [
       "<Figure size 432x288 with 1 Axes>"
      ]
     },
     "metadata": {
      "needs_background": "light"
     },
     "output_type": "display_data"
    },
    {
     "name": "stdout",
     "output_type": "stream",
     "text": [
      "LABEL: 0\n"
     ]
    }
   ],
   "source": [
    "#let's try the plotting function\n",
    "plot_input(X_train,y_train,10)\n",
    "plot_input(X_test,y_test,100)\n",
    "plot_input(X_test,y_test,1000)"
   ]
  },
  {
   "cell_type": "markdown",
   "metadata": {},
   "source": [
    "### TO DO 1\n",
    "\n",
    "Now use a feed-forward Neural Network for prediction. Use the multi-layer perceptron classifier, with the following parameters: max_iter=250, alpha=1e-4, solver='sgd', tol=1e-4, learning_rate_init=.1, random_state=ID (this last parameter ensures the run is the same even if you run it more than once). The alpha parameter is the regularization term.\n",
    "\n",
    "Then, using the default activation function, pick four or five architectures to consider, with different numbers of hidden layers and different sizes. It is not necessary to create huge neural networks, you can limit to 3 layers and, for each layer, its maximum size can be of 50. Evaluate the architectures you chose using GridSearchCV with cv=5.\n",
    "\n",
    "You can reduce the number of iterations if the running time is too long on your computer.\n"
   ]
  },
  {
   "cell_type": "code",
   "execution_count": 8,
   "metadata": {},
   "outputs": [
    {
     "name": "stderr",
     "output_type": "stream",
     "text": [
      "C:\\Users\\lucia\\anaconda3\\lib\\site-packages\\sklearn\\neural_network\\_multilayer_perceptron.py:582: ConvergenceWarning: Stochastic Optimizer: Maximum iterations (250) reached and the optimization hasn't converged yet.\n",
      "  warnings.warn(\n",
      "C:\\Users\\lucia\\anaconda3\\lib\\site-packages\\sklearn\\neural_network\\_multilayer_perceptron.py:582: ConvergenceWarning: Stochastic Optimizer: Maximum iterations (250) reached and the optimization hasn't converged yet.\n",
      "  warnings.warn(\n"
     ]
    },
    {
     "name": "stdout",
     "output_type": "stream",
     "text": [
      "RESULTS FOR NN\n",
      "\n",
      "Best parameters set found:\n",
      "{'hidden_layer_sizes': (20,)}\n",
      "Score with best parameters:\n",
      "0.7849999999999999\n",
      "\n",
      "All scores on the grid:\n"
     ]
    },
    {
     "data": {
      "text/html": [
       "<div>\n",
       "<style scoped>\n",
       "    .dataframe tbody tr th:only-of-type {\n",
       "        vertical-align: middle;\n",
       "    }\n",
       "\n",
       "    .dataframe tbody tr th {\n",
       "        vertical-align: top;\n",
       "    }\n",
       "\n",
       "    .dataframe thead th {\n",
       "        text-align: right;\n",
       "    }\n",
       "</style>\n",
       "<table border=\"1\" class=\"dataframe\">\n",
       "  <thead>\n",
       "    <tr style=\"text-align: right;\">\n",
       "      <th></th>\n",
       "      <th>params</th>\n",
       "      <th>mean_test_score</th>\n",
       "      <th>mean_fit_time</th>\n",
       "      <th>mean_score_time</th>\n",
       "    </tr>\n",
       "  </thead>\n",
       "  <tbody>\n",
       "    <tr>\n",
       "      <th>0</th>\n",
       "      <td>{'hidden_layer_sizes': (10,)}</td>\n",
       "      <td>0.746667</td>\n",
       "      <td>0.843359</td>\n",
       "      <td>0.001001</td>\n",
       "    </tr>\n",
       "    <tr>\n",
       "      <th>1</th>\n",
       "      <td>{'hidden_layer_sizes': (20,)}</td>\n",
       "      <td>0.785000</td>\n",
       "      <td>0.771477</td>\n",
       "      <td>0.001200</td>\n",
       "    </tr>\n",
       "    <tr>\n",
       "      <th>2</th>\n",
       "      <td>{'hidden_layer_sizes': (30,)}</td>\n",
       "      <td>0.771667</td>\n",
       "      <td>0.975440</td>\n",
       "      <td>0.001001</td>\n",
       "    </tr>\n",
       "    <tr>\n",
       "      <th>3</th>\n",
       "      <td>{'hidden_layer_sizes': (20, 20)}</td>\n",
       "      <td>0.781667</td>\n",
       "      <td>0.732571</td>\n",
       "      <td>0.001000</td>\n",
       "    </tr>\n",
       "    <tr>\n",
       "      <th>4</th>\n",
       "      <td>{'hidden_layer_sizes': (30, 30, 20)}</td>\n",
       "      <td>0.650000</td>\n",
       "      <td>0.461230</td>\n",
       "      <td>0.001504</td>\n",
       "    </tr>\n",
       "  </tbody>\n",
       "</table>\n",
       "</div>"
      ],
      "text/plain": [
       "                                 params  mean_test_score  mean_fit_time  \\\n",
       "0         {'hidden_layer_sizes': (10,)}         0.746667       0.843359   \n",
       "1         {'hidden_layer_sizes': (20,)}         0.785000       0.771477   \n",
       "2         {'hidden_layer_sizes': (30,)}         0.771667       0.975440   \n",
       "3      {'hidden_layer_sizes': (20, 20)}         0.781667       0.732571   \n",
       "4  {'hidden_layer_sizes': (30, 30, 20)}         0.650000       0.461230   \n",
       "\n",
       "   mean_score_time  \n",
       "0         0.001001  \n",
       "1         0.001200  \n",
       "2         0.001001  \n",
       "3         0.001000  \n",
       "4         0.001504  "
      ]
     },
     "execution_count": 8,
     "metadata": {},
     "output_type": "execute_result"
    }
   ],
   "source": [
    "# these are sample values but feel free to change them as you like, try to experiment with different sizes!!\n",
    "parameters = {'hidden_layer_sizes': [(10,), (20,), (30,), (20,20,), (30,30,20) ]}\n",
    "\n",
    "mlp = MLPClassifier(max_iter=250, alpha=1e-4, solver='sgd',\n",
    "                    tol=1e-4, random_state=ID,\n",
    "                    learning_rate_init=.1)\n",
    "\n",
    "clf=GridSearchCV(mlp, parameters, cv=5,return_train_score=True)\n",
    "clf.fit(X_train,y_train)\n",
    "\n",
    "print ('RESULTS FOR NN\\n')\n",
    "\n",
    "print(\"Best parameters set found:\")\n",
    "print(clf.best_params_)\n",
    "\n",
    "print(\"Score with best parameters:\")\n",
    "print(clf.best_score_)\n",
    "\n",
    "print(\"\\nAll scores on the grid:\")\n",
    "import pandas as pd\n",
    "df_lay=pd.DataFrame(clf.cv_results_)\n",
    "df_lay[['params', 'mean_test_score','mean_fit_time', 'mean_score_time']]"
   ]
  },
  {
   "cell_type": "markdown",
   "metadata": {},
   "source": [
    "### TO DO 2\n",
    "\n",
    "Now try also different batch sizes, while keeping the best NN architecture you have found above. Remember that the batch size was previously set to the default value, i.e., min(200, n_samples). \n",
    "Recall that a batch size of 1 corresponds to baseline SGD, while using all the 480 training samples (there are 600 samples but in cross validation with 5 folders we use 1/5 of them for validation at each round) corresponds to standard GD and using a different mini-batch size lies in the middle between the two extreme cases."
   ]
  },
  {
   "cell_type": "code",
   "execution_count": 9,
   "metadata": {},
   "outputs": [
    {
     "name": "stdout",
     "output_type": "stream",
     "text": [
      "RESULTS FOR NN\n",
      "\n",
      "Best parameters set found:\n",
      "{'batch_size': 480}\n",
      "Score with best parameters:\n",
      "0.78\n",
      "\n",
      "All scores on the grid:\n"
     ]
    },
    {
     "data": {
      "text/html": [
       "<div>\n",
       "<style scoped>\n",
       "    .dataframe tbody tr th:only-of-type {\n",
       "        vertical-align: middle;\n",
       "    }\n",
       "\n",
       "    .dataframe tbody tr th {\n",
       "        vertical-align: top;\n",
       "    }\n",
       "\n",
       "    .dataframe thead th {\n",
       "        text-align: right;\n",
       "    }\n",
       "</style>\n",
       "<table border=\"1\" class=\"dataframe\">\n",
       "  <thead>\n",
       "    <tr style=\"text-align: right;\">\n",
       "      <th></th>\n",
       "      <th>params</th>\n",
       "      <th>mean_test_score</th>\n",
       "      <th>mean_fit_time</th>\n",
       "      <th>mean_score_time</th>\n",
       "    </tr>\n",
       "  </thead>\n",
       "  <tbody>\n",
       "    <tr>\n",
       "      <th>0</th>\n",
       "      <td>{'batch_size': 1}</td>\n",
       "      <td>0.103333</td>\n",
       "      <td>10.048632</td>\n",
       "      <td>0.001001</td>\n",
       "    </tr>\n",
       "    <tr>\n",
       "      <th>1</th>\n",
       "      <td>{'batch_size': 32}</td>\n",
       "      <td>0.723333</td>\n",
       "      <td>0.567555</td>\n",
       "      <td>0.000999</td>\n",
       "    </tr>\n",
       "    <tr>\n",
       "      <th>2</th>\n",
       "      <td>{'batch_size': 480}</td>\n",
       "      <td>0.780000</td>\n",
       "      <td>0.673120</td>\n",
       "      <td>0.000995</td>\n",
       "    </tr>\n",
       "  </tbody>\n",
       "</table>\n",
       "</div>"
      ],
      "text/plain": [
       "                params  mean_test_score  mean_fit_time  mean_score_time\n",
       "0    {'batch_size': 1}         0.103333      10.048632         0.001001\n",
       "1   {'batch_size': 32}         0.723333       0.567555         0.000999\n",
       "2  {'batch_size': 480}         0.780000       0.673120         0.000995"
      ]
     },
     "execution_count": 9,
     "metadata": {},
     "output_type": "execute_result"
    }
   ],
   "source": [
    "# these are sample values corresponding to baseline SGD, a reasonable mini-batch size and standard GD\n",
    "# again feel free to change them as you like, try to experiment with different batch sizes!!\n",
    "parameters = {'batch_size': [1, 32, 480]}\n",
    "\n",
    "# need to specify that you would like to use the standard k-fold split otherwise sklearn create splits of different sizes\n",
    "kf = sklearn.model_selection.KFold(n_splits=5)\n",
    "\n",
    "mlp_kf = MLPClassifier(max_iter=250, alpha=1e-4, solver='sgd',\n",
    "                    tol=1e-4, random_state=ID, hidden_layer_sizes=(20, ),\n",
    "                    learning_rate_init=.1)\n",
    "\n",
    "# recall to use cv=kf to use the k-fold subdivision seen in the lectures\n",
    "\n",
    "clf=GridSearchCV(mlp_kf, parameters, cv=kf, return_train_score=True)\n",
    "clf.fit(X_train,y_train)\n",
    "\n",
    "\n",
    "print ('RESULTS FOR NN\\n')\n",
    "\n",
    "print(\"Best parameters set found:\")\n",
    "print(clf.best_params_)\n",
    "\n",
    "print(\"Score with best parameters:\")\n",
    "print(clf.best_score_)\n",
    "\n",
    "print(\"\\nAll scores on the grid:\")\n",
    "df_batch=pd.DataFrame(clf.cv_results_)\n",
    "df_batch[['params', 'mean_test_score','mean_fit_time', 'mean_score_time']]"
   ]
  },
  {
   "cell_type": "markdown",
   "metadata": {},
   "source": [
    "### QUESTION 1\n",
    "\n",
    "What do you observe for different architectures and batch sizes? How do the number of layers and their sizes affect the performances? What do you observe for different batch sizes, in particular what happens to the training convergence for different batch sizes (notice that the algorithm could not converge for some batch sizes)?"
   ]
  },
  {
   "cell_type": "markdown",
   "metadata": {},
   "source": [
    "## [ANSWER TO QUESTION 1]\n",
    "\n",
    "\n",
    "Based on my results, the best hidden layer sets are the single hidden layers, while if we compute the NN with more dimension we achieve worse results.\n",
    "\n",
    "Regarding the batch sizes, we notice that the batch size 1 is the worst one, this because we do a baseline SGD, while with the batch size 480 we do SG, which leds to a more stable trajectory but we have a long computational time.\n",
    "In my case, with every batch size we reach the convergence, but for smaller batch size we have more computational time (so sometimes it does not converge)."
   ]
  },
  {
   "cell_type": "markdown",
   "metadata": {},
   "source": [
    "### TODO 3:\n",
    "\n",
    "Plot the train and test accuracies as a function of the number of learnable parameters in your neural network. Print also the computation time for the various configurations you try (the code for getting the computation time is already provided). You can use 300 iterations (if you get a warning on convergence not reached it is not an issue for this lab)"
   ]
  },
  {
   "cell_type": "code",
   "execution_count": 10,
   "metadata": {},
   "outputs": [
    {
     "name": "stdout",
     "output_type": "stream",
     "text": [
      "Training MLP of size (10,) ...\n",
      "Done, training time: 1.61 sec\n",
      "\n",
      "Training MLP of size (20,) ...\n",
      "Done, training time: 1.21 sec\n",
      "\n",
      "Training MLP of size (30,) ...\n",
      "Done, training time: 0.54 sec\n",
      "\n",
      "Training MLP of size (30, 20) ...\n",
      "Done, training time: 0.59 sec\n",
      "\n",
      "Training MLP of size (30, 30, 20) ...\n",
      "Done, training time: 0.79 sec\n",
      "\n"
     ]
    },
    {
     "data": {
      "image/png": "[encoded data removed]",
      "text/plain": [
       "<Figure size 1080x360 with 2 Axes>"
      ]
     },
     "metadata": {
      "needs_background": "light"
     },
     "output_type": "display_data"
    }
   ],
   "source": [
    "import time\n",
    "from functools import reduce\n",
    "\n",
    "# Function to compute the number of learnable parameters of a mlp given the size of its hidden layers\n",
    "def param_count(hl_size):\n",
    "    tot = 0\n",
    "    input_size, output_size = X_train.shape[1], len(labels)\n",
    "    tot += (input_size+1)*hl_size[0]\n",
    "    for i in range(1,len(hl_size)):\n",
    "        tot += (hl_size[i-1]+1)*hl_size[i]\n",
    "    tot += (hl_size[-1]+1)*output_size\n",
    "    return tot\n",
    "\n",
    "hl_sizes = [(10,), (20,), (30,), (30,20,), (30,30,20)]\n",
    "hl_labels = [param_count(t) for t in hl_sizes]\n",
    "\n",
    "ti = time.time()\n",
    "train_acc_list, test_acc_list = [], []\n",
    "for hl_size in hl_sizes:\n",
    "    print('Training MLP of size {} ...'.format(hl_size))\n",
    "    \n",
    "    mlp = MLPClassifier(max_iter=300, alpha=1e-4, solver='sgd',\n",
    "                    tol=1e-4, random_state=ID, hidden_layer_sizes=hl_size,\n",
    "                    learning_rate_init=.1)\n",
    "    \n",
    "    mlp.fit(X_train,y_train)\n",
    "    \n",
    "    train_acc_list.append(mlp.score(X_train, y_train))\n",
    "    test_acc_list.append(mlp.score(X_test, y_test))\n",
    "    print('Done, training time: {:.2f} sec\\n'.format(time.time()-ti))\n",
    "    ti = time.time()\n",
    "\n",
    "fig, ax = plt.subplots(1,2, figsize=(15,5))\n",
    "\n",
    "\n",
    "ax[0].plot(train_acc_list)\n",
    "ax[0].set_xlabel('Number of learnable params')\n",
    "ax[0].set_title('Train accuracy')\n",
    "ax[0].set_xticks(np.arange(0,len(hl_labels)))\n",
    "ax[0].set_xticklabels(hl_labels)\n",
    "ax[0].grid(True)\n",
    "\n",
    "ax[1].plot(test_acc_list)\n",
    "ax[1].set_xlabel('Number of learnable params')\n",
    "ax[1].set_title('Test accuracy')\n",
    "ax[1].set_xticks(np.arange(0,len(hl_labels)))\n",
    "ax[1].set_xticklabels(hl_labels)\n",
    "ax[1].grid(True)\n"
   ]
  },
  {
   "cell_type": "markdown",
   "metadata": {},
   "source": [
    "## Question 2:\n",
    "\n",
    "Comment about the training and test accuracies referring to the discussion on underfitting and overfitting we did in the course\n"
   ]
  },
  {
   "cell_type": "markdown",
   "metadata": {},
   "source": [
    "## [ANSWER TO QUESTION 2]\n",
    "\n",
    "For the single hidden layer, we overfit the training set: we can see it because we have almost zero error. In this case, for the test set we have good test accuracy, but probably if we change the random seed we achieve more error (so in this case we are just lucky for the test set, because we are still overfitting).\n",
    "\n",
    "The last architecture, otherwise, tends to underfitting the training set because we have a very bad train accuracy.\n",
    "\n",
    "The best architecture seems to be the fourth one (30,20,) because it's in the middle respect to overfitting and underfitting situations."
   ]
  },
  {
   "cell_type": "markdown",
   "metadata": {},
   "source": [
    "### TO DO 4\n",
    "\n",
    "Now try also to use different learning rates, while keeping the best NN architecture and batch size you have found above. Plot the learning curves (i.e., the variation of the loss over the steps, you can get it from the loss_curve_ object of sklearn) for the different values of the learning rate. Try to run each training for 600 iterations. "
   ]
  },
  {
   "cell_type": "code",
   "execution_count": 11,
   "metadata": {},
   "outputs": [
    {
     "name": "stderr",
     "output_type": "stream",
     "text": [
      "C:\\Users\\lucia\\anaconda3\\lib\\site-packages\\sklearn\\neural_network\\_multilayer_perceptron.py:582: ConvergenceWarning: Stochastic Optimizer: Maximum iterations (600) reached and the optimization hasn't converged yet.\n",
      "  warnings.warn(\n",
      "C:\\Users\\lucia\\anaconda3\\lib\\site-packages\\sklearn\\neural_network\\_multilayer_perceptron.py:582: ConvergenceWarning: Stochastic Optimizer: Maximum iterations (600) reached and the optimization hasn't converged yet.\n",
      "  warnings.warn(\n"
     ]
    },
    {
     "data": {
      "image/png": "[encoded data removed]",
      "text/plain": [
       "<Figure size 1080x360 with 3 Axes>"
      ]
     },
     "metadata": {
      "needs_background": "light"
     },
     "output_type": "display_data"
    }
   ],
   "source": [
    "import matplotlib.pyplot as plt\n",
    "import operator\n",
    "\n",
    "#lr_list = [0.001, 0.01, 0.1]\n",
    "lr_list = [10**exp for exp in range(-3,0)]\n",
    "scores = []\n",
    "loss=[]\n",
    "\n",
    "for lr in lr_list:\n",
    "    \n",
    "    mlp_best = MLPClassifier(max_iter=600, alpha=1e-4, solver='sgd',\n",
    "                    tol=1e-4, random_state=ID, hidden_layer_sizes=(20, ), batch_size=480,\n",
    "                    learning_rate_init=lr)\n",
    "    mlp_best.fit(X_train,y_train)\n",
    "    scores.append(mlp_best.score(X_train,y_train))\n",
    "    loss.append(mlp_best.loss_curve_)\n",
    "\n",
    "fig, ax = plt.subplots(1,3,figsize=(15,5))\n",
    "\n",
    "ax[0].plot(loss[0])\n",
    "ax[0].set_xlabel('Steps')\n",
    "ax[0].set_ylabel('Loss curve')\n",
    "ax[0].grid(True)\n",
    "\n",
    "ax[1].plot(loss[1])\n",
    "ax[1].set_xlabel('Steps')\n",
    "ax[1].set_ylabel('Loss curve')\n",
    "ax[1].grid(True)\n",
    "\n",
    "ax[2].plot(loss[2])\n",
    "ax[2].set_xlabel('Steps')\n",
    "ax[2].set_ylabel('Loss curve')\n",
    "ax[2].grid(True)\n",
    "\n",
    "plt.show()"
   ]
  },
  {
   "cell_type": "code",
   "execution_count": 12,
   "metadata": {},
   "outputs": [
    {
     "name": "stderr",
     "output_type": "stream",
     "text": [
      "C:\\Users\\lucia\\anaconda3\\lib\\site-packages\\sklearn\\neural_network\\_multilayer_perceptron.py:582: ConvergenceWarning: Stochastic Optimizer: Maximum iterations (600) reached and the optimization hasn't converged yet.\n",
      "  warnings.warn(\n",
      "C:\\Users\\lucia\\anaconda3\\lib\\site-packages\\sklearn\\neural_network\\_multilayer_perceptron.py:582: ConvergenceWarning: Stochastic Optimizer: Maximum iterations (600) reached and the optimization hasn't converged yet.\n",
      "  warnings.warn(\n",
      "C:\\Users\\lucia\\anaconda3\\lib\\site-packages\\sklearn\\neural_network\\_multilayer_perceptron.py:582: ConvergenceWarning: Stochastic Optimizer: Maximum iterations (600) reached and the optimization hasn't converged yet.\n",
      "  warnings.warn(\n",
      "C:\\Users\\lucia\\anaconda3\\lib\\site-packages\\sklearn\\neural_network\\_multilayer_perceptron.py:582: ConvergenceWarning: Stochastic Optimizer: Maximum iterations (600) reached and the optimization hasn't converged yet.\n",
      "  warnings.warn(\n",
      "C:\\Users\\lucia\\anaconda3\\lib\\site-packages\\sklearn\\neural_network\\_multilayer_perceptron.py:582: ConvergenceWarning: Stochastic Optimizer: Maximum iterations (600) reached and the optimization hasn't converged yet.\n",
      "  warnings.warn(\n",
      "C:\\Users\\lucia\\anaconda3\\lib\\site-packages\\sklearn\\neural_network\\_multilayer_perceptron.py:582: ConvergenceWarning: Stochastic Optimizer: Maximum iterations (600) reached and the optimization hasn't converged yet.\n",
      "  warnings.warn(\n",
      "C:\\Users\\lucia\\anaconda3\\lib\\site-packages\\sklearn\\neural_network\\_multilayer_perceptron.py:582: ConvergenceWarning: Stochastic Optimizer: Maximum iterations (600) reached and the optimization hasn't converged yet.\n",
      "  warnings.warn(\n",
      "C:\\Users\\lucia\\anaconda3\\lib\\site-packages\\sklearn\\neural_network\\_multilayer_perceptron.py:582: ConvergenceWarning: Stochastic Optimizer: Maximum iterations (600) reached and the optimization hasn't converged yet.\n",
      "  warnings.warn(\n",
      "C:\\Users\\lucia\\anaconda3\\lib\\site-packages\\sklearn\\neural_network\\_multilayer_perceptron.py:582: ConvergenceWarning: Stochastic Optimizer: Maximum iterations (600) reached and the optimization hasn't converged yet.\n",
      "  warnings.warn(\n",
      "C:\\Users\\lucia\\anaconda3\\lib\\site-packages\\sklearn\\neural_network\\_multilayer_perceptron.py:582: ConvergenceWarning: Stochastic Optimizer: Maximum iterations (600) reached and the optimization hasn't converged yet.\n",
      "  warnings.warn(\n"
     ]
    },
    {
     "name": "stdout",
     "output_type": "stream",
     "text": [
      "RESULTS FOR NN\n",
      "\n",
      "Best parameters set found:\n",
      "{'learning_rate_init': 0.1}\n",
      "Score with best parameters:\n",
      "0.78\n"
     ]
    }
   ],
   "source": [
    "mlp_best = MLPClassifier(max_iter=600, alpha=1e-4, solver='sgd',\n",
    "                    tol=1e-4, random_state=ID, hidden_layer_sizes=(20, ), batch_size=480)\n",
    "parameters= {'learning_rate_init' : [0.001, 0.01, 0.1]}\n",
    "clf_best=GridSearchCV(mlp_best, parameters, cv=kf, return_train_score=True)\n",
    "clf_best.fit(X_train,y_train)\n",
    "\n",
    "print ('RESULTS FOR NN\\n')\n",
    "\n",
    "print(\"Best parameters set found:\")\n",
    "print(clf_best.best_params_)\n",
    "\n",
    "print(\"Score with best parameters:\")\n",
    "print(clf_best.best_score_)\n"
   ]
  },
  {
   "cell_type": "markdown",
   "metadata": {},
   "source": [
    "### QUESTION 3\n",
    "\n",
    "Comment about the learning curves (i.e. the variation of the loss over the steps). How does the curve changes for different learning rates in terms of stability and speed of convergence ?\n"
   ]
  },
  {
   "cell_type": "markdown",
   "metadata": {},
   "source": [
    "## [ANSWER TO QUESTION 3]\n",
    "\n",
    "The first and second curves are similiar to each others, and for both algorithm does not converge. On the other hand, the third one (0.1) reach the convergence in a very fast way respect to the other two, also the loss over the steps is the faster one. Let's notice that the first one falls down in about 200 steps (but loss curve stays > 0.5), the second one falls down in about 100 steps, while the third one in about 20 steps.\n",
    "We can also see that the third curve is the less stable one (we have a lot of noise along the curve), while the other two seems to be more stable."
   ]
  },
  {
   "cell_type": "markdown",
   "metadata": {},
   "source": [
    "### TO DO 5\n",
    "\n",
    "Now get training and test error for a NN with best parameters (architecture, batch size and learning rate) from above. Plot the learning curve also for this case."
   ]
  },
  {
   "cell_type": "code",
   "execution_count": 13,
   "metadata": {
    "scrolled": true
   },
   "outputs": [
    {
     "name": "stdout",
     "output_type": "stream",
     "text": [
      "\n",
      "RESULTS FOR BEST NN\n",
      "\n",
      "Best NN training error: 0.035000\n",
      "Best NN test error: 0.230250\n"
     ]
    },
    {
     "data": {
      "image/png": "[encoded data removed]",
      "text/plain": [
       "<Figure size 432x288 with 1 Axes>"
      ]
     },
     "metadata": {
      "needs_background": "light"
     },
     "output_type": "display_data"
    }
   ],
   "source": [
    "#get training and test error for the best NN model from CV\n",
    "\n",
    "mlp_best_1 = MLPClassifier(max_iter=600, alpha=1e-4, solver='sgd',\n",
    "                    tol=1e-4, random_state=ID, hidden_layer_sizes=(20, ), batch_size=480,\n",
    "                    learning_rate_init=.1)\n",
    "mlp_best_1.fit(X_train,y_train)\n",
    "\n",
    "training_error=1-mlp_best_1.score(X_train,y_train)\n",
    "test_error=1-mlp_best_1.score(X_test,y_test)\n",
    "\n",
    "print ('\\nRESULTS FOR BEST NN\\n')\n",
    "\n",
    "print (\"Best NN training error: %f\" % training_error)\n",
    "print (\"Best NN test error: %f\" % test_error)\n",
    "\n",
    "\n",
    "plt.plot(mlp_best_1.loss_curve_)\n",
    "plt.xlabel('Steps')\n",
    "plt.ylabel('Loss curve')\n",
    "plt.grid(True)\n"
   ]
  },
  {
   "cell_type": "markdown",
   "metadata": {},
   "source": [
    "## More data \n",
    "Now let's do the same but using 4000 (or less if it takes too long on your machine) data points for training. Use the same NN architecture as before, but you can try more if you like and have a powerful computer!!"
   ]
  },
  {
   "cell_type": "code",
   "execution_count": 14,
   "metadata": {},
   "outputs": [
    {
     "name": "stdout",
     "output_type": "stream",
     "text": [
      "Labels in training dataset:  [0 1 2 3 4 5 6 7 8 9]\n",
      "Frequencies in training dataset:  [392 410 390 406 411 396 401 408 401 385]\n"
     ]
    }
   ],
   "source": [
    "X = X[permutation]\n",
    "y = y[permutation]\n",
    "\n",
    "m_training = 4000\n",
    "\n",
    "X_train, X_test = X[:m_training], X[m_training:]\n",
    "y_train, y_test = y[:m_training], y[m_training:]\n",
    "\n",
    "labels, freqs = np.unique(y_train, return_counts=True)\n",
    "print(\"Labels in training dataset: \", labels)\n",
    "print(\"Frequencies in training dataset: \", freqs)"
   ]
  },
  {
   "cell_type": "markdown",
   "metadata": {},
   "source": [
    "### TO DO 6\n",
    "\n",
    "Now train the NNs with the added data points using the optimum parameters found above. Eventually, feel free to try different architectures if you like. We suggest that you use 'verbose=True' so have an idea of how long it takes to run 1 iteration (eventually reduce also the number of iterations to 50)."
   ]
  },
  {
   "cell_type": "code",
   "execution_count": 15,
   "metadata": {},
   "outputs": [
    {
     "name": "stdout",
     "output_type": "stream",
     "text": [
      "Iteration 1, loss = 1.84763850\n",
      "Iteration 2, loss = 1.23452772\n",
      "Iteration 3, loss = 0.76589164\n",
      "Iteration 4, loss = 0.68062249\n",
      "Iteration 5, loss = 0.62969069\n",
      "Iteration 6, loss = 0.58261996\n",
      "Iteration 7, loss = 0.55837727\n",
      "Iteration 8, loss = 0.57122066\n",
      "Iteration 9, loss = 0.51077730\n",
      "Iteration 10, loss = 0.49655930\n",
      "Iteration 11, loss = 0.52024042\n",
      "Iteration 12, loss = 0.45575724\n",
      "Iteration 13, loss = 0.46824275\n",
      "Iteration 14, loss = 0.42948140\n",
      "Iteration 15, loss = 0.41237236\n",
      "Iteration 16, loss = 0.42745466\n",
      "Iteration 17, loss = 0.42626269\n",
      "Iteration 18, loss = 0.38193611\n",
      "Iteration 19, loss = 0.38175458\n",
      "Iteration 20, loss = 0.39700323\n",
      "Iteration 21, loss = 0.37408952\n",
      "Iteration 22, loss = 0.34858071\n",
      "Iteration 23, loss = 0.34798276\n",
      "Iteration 24, loss = 0.35950062\n",
      "Iteration 25, loss = 0.33220118\n",
      "Iteration 26, loss = 0.32695458\n",
      "Iteration 27, loss = 0.31927303\n",
      "Iteration 28, loss = 0.36156937\n",
      "Iteration 29, loss = 0.30575098\n",
      "Iteration 30, loss = 0.29884906\n",
      "Iteration 31, loss = 0.36297559\n",
      "Iteration 32, loss = 0.30479071\n",
      "Iteration 33, loss = 0.29698956\n",
      "Iteration 34, loss = 0.28188363\n",
      "Iteration 35, loss = 0.30632257\n",
      "Iteration 36, loss = 0.28065919\n",
      "Iteration 37, loss = 0.26343686\n",
      "Iteration 38, loss = 0.37161447\n",
      "Iteration 39, loss = 0.28250173\n",
      "Iteration 40, loss = 0.25255029\n",
      "Iteration 41, loss = 0.25710142\n",
      "Iteration 42, loss = 0.24128133\n",
      "Iteration 43, loss = 0.26438632\n",
      "Iteration 44, loss = 0.25692006\n",
      "Iteration 45, loss = 0.25581702\n",
      "Iteration 46, loss = 0.23269926\n",
      "Iteration 47, loss = 0.22837875\n",
      "Iteration 48, loss = 0.30519258\n",
      "Iteration 49, loss = 0.23617522\n",
      "Iteration 50, loss = 0.23685915\n",
      "Iteration 51, loss = 0.22891877\n",
      "Iteration 52, loss = 0.21810651\n",
      "Iteration 53, loss = 0.20442379\n",
      "Iteration 54, loss = 0.21318928\n",
      "Iteration 55, loss = 0.19666636\n",
      "Iteration 56, loss = 0.26775157\n",
      "Iteration 57, loss = 0.19886869\n",
      "Iteration 58, loss = 0.20007638\n",
      "Iteration 59, loss = 0.23122040\n",
      "Iteration 60, loss = 0.24646189\n",
      "Iteration 61, loss = 0.28906659\n",
      "Iteration 62, loss = 0.20656771\n",
      "Iteration 63, loss = 0.19018119\n",
      "Iteration 64, loss = 0.20002386\n",
      "Iteration 65, loss = 0.18126396\n",
      "Iteration 66, loss = 0.17061297\n",
      "Iteration 67, loss = 0.19164242\n",
      "Iteration 68, loss = 0.18059439\n",
      "Iteration 69, loss = 0.17652251\n",
      "Iteration 70, loss = 0.22005103\n",
      "Iteration 71, loss = 0.15894301\n",
      "Iteration 72, loss = 0.20248415\n",
      "Iteration 73, loss = 0.24835610\n",
      "Iteration 74, loss = 0.15886228\n",
      "Iteration 75, loss = 0.17397209\n",
      "Iteration 76, loss = 0.14937140\n",
      "Iteration 77, loss = 0.33448080\n",
      "Iteration 78, loss = 0.22657496\n",
      "Iteration 79, loss = 0.15853370\n",
      "Iteration 80, loss = 0.15154149\n",
      "Iteration 81, loss = 0.14757079\n",
      "Iteration 82, loss = 0.14799509\n",
      "Iteration 83, loss = 0.13894131\n",
      "Iteration 84, loss = 0.13366161\n",
      "Iteration 85, loss = 0.16555492\n",
      "Iteration 86, loss = 0.14038615\n",
      "Iteration 87, loss = 0.13499472\n",
      "Iteration 88, loss = 0.14697132\n",
      "Iteration 89, loss = 0.11889225\n",
      "Iteration 90, loss = 0.12850168\n",
      "Iteration 91, loss = 0.12772131\n",
      "Iteration 92, loss = 0.12535234\n",
      "Iteration 93, loss = 1.22353087\n",
      "Iteration 94, loss = 0.86084465\n",
      "Iteration 95, loss = 0.68163696\n",
      "Iteration 96, loss = 0.53283171\n",
      "Iteration 97, loss = 0.45349197\n",
      "Iteration 98, loss = 0.43540820\n",
      "Iteration 99, loss = 0.46469236\n",
      "Iteration 100, loss = 0.38320302\n",
      "Training loss did not improve more than tol=0.000100 for 10 consecutive epochs. Stopping.\n",
      "\n",
      "RESULTS FOR NN\n",
      "\n",
      "NN training error: 0.139000\n",
      "NN test error: 0.213464\n"
     ]
    }
   ],
   "source": [
    "# use best architecture and params from before\n",
    "\n",
    "mlp_best_2 = MLPClassifier(max_iter=200, alpha=1e-4, solver='sgd',\n",
    "                    tol=1e-4, random_state=ID, hidden_layer_sizes=(20, ), batch_size=480,\n",
    "                    learning_rate_init=.1,verbose=True)\n",
    "mlp_best_2.fit(X_train,y_train)\n",
    "\n",
    "print ('\\nRESULTS FOR NN\\n')\n",
    "\n",
    "#get training and test error for the NN\n",
    "\n",
    "training_error=1-mlp_best_2.score(X_train,y_train)\n",
    "test_error=1-mlp_best_2.score(X_test,y_test)\n",
    "\n",
    "print (\"NN training error: %f\" % training_error)\n",
    "print (\"NN test error: %f\" % test_error)\n"
   ]
  },
  {
   "cell_type": "markdown",
   "metadata": {},
   "source": [
    "## QUESTION 4\n",
    "Compare the train and test error you got with a large number of samples with the best one you obtained with only 600 data points. Comment about the results you obtained."
   ]
  },
  {
   "cell_type": "markdown",
   "metadata": {},
   "source": [
    "#### [ANSWER TO QUESTION 4]\n",
    "\n",
    "With 600 data points I get a training error almost equal to zero (overfitting) and a test error of 0.23.\n",
    "With 4000 data points I get a training error bigger than the one achieved before (now it's 0.13), but we get a best test error (0.21). We know that with more data we can get better performance on our data. Let's notice that with 4000 training points, algorithm stops after 100 iterations because we do not achieve improving in the loss curve."
   ]
  },
  {
   "cell_type": "markdown",
   "metadata": {},
   "source": [
    "### TO DO 7\n",
    "\n",
    "Plot an example that was missclassified by NN with m=600 training data points and it is now instead correctly classified by NN with m=4000 training data points."
   ]
  },
  {
   "cell_type": "code",
   "execution_count": 16,
   "metadata": {},
   "outputs": [
    {
     "name": "stdout",
     "output_type": "stream",
     "text": [
      "INPUT:\n"
     ]
    },
    {
     "data": {
      "image/png": "[encoded data removed]",
      "text/plain": [
       "<Figure size 432x288 with 1 Axes>"
      ]
     },
     "metadata": {
      "needs_background": "light"
     },
     "output_type": "display_data"
    },
    {
     "name": "stdout",
     "output_type": "stream",
     "text": [
      "LABEL: 1\n"
     ]
    }
   ],
   "source": [
    "NN_prediction = mlp_best_1.predict(X_test)\n",
    "large_NN_prediction = mlp_best_2.predict(X_test)\n",
    "\n",
    "misclass=[]\n",
    "\n",
    "for i in range(len(y_train)):\n",
    "    if (NN_prediction[i] != y_test[i]) and (large_NN_prediction[i] == y_test[i]):\n",
    "        misclass.append(i)\n",
    "    \n",
    "plot_input(X_test,y_test,np.random.choice(misclass, 1))"
   ]
  },
  {
   "cell_type": "markdown",
   "metadata": {},
   "source": [
    "### TO DO 8\n",
    "\n",
    "Let's plot the weigths of the multi-layer perceptron classifier, for the best NN we get with 600 data points and with 4000 data points. The code is already provided, just fix variable names (e.g., replace mlp , mlp_large with your estimators) in order to have it working with your implementation\n",
    "\n"
   ]
  },
  {
   "cell_type": "code",
   "execution_count": 17,
   "metadata": {},
   "outputs": [
    {
     "name": "stdout",
     "output_type": "stream",
     "text": [
      "Weights with 600 data points:\n"
     ]
    },
    {
     "data": {
      "image/png": "[encoded data removed]",
      "text/plain": [
       "<Figure size 432x288 with 16 Axes>"
      ]
     },
     "metadata": {},
     "output_type": "display_data"
    },
    {
     "name": "stdout",
     "output_type": "stream",
     "text": [
      "Weights with 4000 data points:\n"
     ]
    },
    {
     "data": {
      "image/png": "[encoded data removed]",
      "text/plain": [
       "<Figure size 432x288 with 16 Axes>"
      ]
     },
     "metadata": {},
     "output_type": "display_data"
    }
   ],
   "source": [
    "print(\"Weights with 600 data points:\")\n",
    "\n",
    "fig, axes = plt.subplots(4, 4)\n",
    "vmin, vmax = mlp_best_1.coefs_[0].min(), mlp_best_1.coefs_[0].max()\n",
    "for coef, ax in zip(mlp_best_1.coefs_[0].T, axes.ravel()):\n",
    "    ax.matshow(coef.reshape(28, 28), cmap=plt.cm.gray, vmin=.5 * vmin,\n",
    "               vmax=.5 * vmax)\n",
    "    ax.set_xticks(())\n",
    "    ax.set_yticks(())\n",
    "\n",
    "plt.show()\n",
    "\n",
    "print(\"Weights with 4000 data points:\")\n",
    "\n",
    "fig, axes = plt.subplots(4, 4)\n",
    "vmin, vmax = mlp_best_2.coefs_[0].min(), mlp_best_2.coefs_[0].max()\n",
    "for coef, ax in zip(mlp_best_2.coefs_[0].T, axes.ravel()):\n",
    "    ax.matshow(coef.reshape(28, 28), cmap=plt.cm.gray, vmin=.5 * vmin,\n",
    "               vmax=.5 * vmax)\n",
    "    ax.set_xticks(())\n",
    "    ax.set_yticks(())\n",
    "    \n",
    "plt.show()"
   ]
  },
  {
   "cell_type": "markdown",
   "metadata": {},
   "source": [
    "## QUESTION 5\n",
    "\n",
    "Describe what do you observe by looking at the weights."
   ]
  },
  {
   "cell_type": "markdown",
   "metadata": {},
   "source": [
    "##### [ANSWER TO QUESTION 5]\n",
    "\n",
    "We observe that we for 4000 data points we have the weights better defined (we can also recognize some clothes from the images), while with 600 data points we have more noise in the image."
   ]
  },
  {
   "cell_type": "markdown",
   "metadata": {},
   "source": [
    "### TO DO 9\n",
    "\n",
    "Take the best SVM model and its parameters, you found in the last notebook. Fit it on a few data points and compute its training and test scores. Then fit also a logistic regression model with C=1. "
   ]
  },
  {
   "cell_type": "code",
   "execution_count": 18,
   "metadata": {},
   "outputs": [
    {
     "name": "stdout",
     "output_type": "stream",
     "text": [
      "RESULTS FOR SVM\n",
      "Training error SVM:\n",
      "0.0031999999999999806\n",
      "Test error SVM:\n",
      "0.14880000000000004\n"
     ]
    }
   ],
   "source": [
    "m_training = 5000\n",
    "\n",
    "X_train, X_test = X[:m_training], X[m_training:2*m_training]\n",
    "y_train, y_test = y[:m_training], y[m_training:2*m_training]\n",
    "\n",
    "# use best parameters found in the SVM notebook, create SVM and perform fitting\n",
    "\n",
    "best_SVM = SVC(kernel='rbf', C=50, gamma=0.005)\n",
    "best_SVM.fit(X_train,y_train)\n",
    "\n",
    "print ('RESULTS FOR SVM')\n",
    "\n",
    "SVM_training_error =  1-best_SVM.score(X_train,y_train)\n",
    "\n",
    "print(\"Training error SVM:\")\n",
    "print(SVM_training_error)\n",
    "\n",
    "SVM_test_error = 1-best_SVM.score(X_test,y_test)\n",
    "print(\"Test error SVM:\")\n",
    "print(SVM_test_error)"
   ]
  },
  {
   "cell_type": "code",
   "execution_count": 19,
   "metadata": {},
   "outputs": [
    {
     "name": "stdout",
     "output_type": "stream",
     "text": [
      "\n",
      "RESULTS FOR LOGISTIC REGRESSION WITH REGULARIZATION\n",
      "Training error (reg): 0.046400\n",
      "Test error (reg): 0.175600\n"
     ]
    }
   ],
   "source": [
    "from sklearn import linear_model\n",
    "\n",
    "regL2 = linear_model.LogisticRegression(C=1,max_iter=10000)\n",
    "\n",
    "# you can re-use your code from Lab 2\n",
    "\n",
    "regL2.fit(X_train,y_train)\n",
    "\n",
    "print ('\\nRESULTS FOR LOGISTIC REGRESSION WITH REGULARIZATION')\n",
    "\n",
    "training_error =  1-regL2.score(X_train,y_train)\n",
    "test_error =  1-regL2.score(X_test,y_test)\n",
    "\n",
    "print (\"Training error (reg): %f\" % training_error)\n",
    "print (\"Test error (reg): %f\" % test_error)"
   ]
  },
  {
   "cell_type": "markdown",
   "metadata": {
    "collapsed": true
   },
   "source": [
    "## QUESTION 6\n",
    "Compare the results of Logistic Regression, SVM and NN. Which one achieve the best results? "
   ]
  },
  {
   "cell_type": "markdown",
   "metadata": {},
   "source": [
    "###### [ANSWER TO QUESTION 6]\n",
    "\n",
    "Lower training error is achieved with SVM\n",
    "Lower test error is achieved with SVM.\n",
    "So with SVM we achieve the best results. Notice that in this case we have a training set of 4000/5000 samples. Maybe with smaller training set SVM is not the best predictor anymore."
   ]
  },
  {
   "cell_type": "code",
   "execution_count": null,
   "metadata": {},
   "outputs": [],
   "source": []
  }
 ],
 "metadata": {
  "kernelspec": {
   "display_name": "Python 3",
   "language": "python",
   "name": "python3"
  },
  "language_info": {
   "codemirror_mode": {
    "name": "ipython",
    "version": 3
   },
   "file_extension": ".py",
   "mimetype": "text/x-python",
   "name": "python",
   "nbconvert_exporter": "python",
   "pygments_lexer": "ipython3",
   "version": "3.8.3"
  }
 },
 "nbformat": 4,
 "nbformat_minor": 2
}
